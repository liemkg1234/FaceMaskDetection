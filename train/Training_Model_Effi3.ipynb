{
 "cells": [
  {
   "cell_type": "code",
   "execution_count": null,
   "metadata": {
    "id": "MwYHl6qi2ASb",
    "pycharm": {
     "name": "#%%\n"
    }
   },
   "outputs": [],
   "source": [
    "https://www.youtube.com/watch?v=-ZyFYniGUsw\n",
    "https://colab.research.google.com/drive/1RVa019JFQmODFQNPrfmpOTaSi_GMwtlE?usp=sharing#scrollTo=YC72ZmFLfp3D\n",
    "https://colab.research.google.com/github/khanhlvg/tflite_raspberry_pi/blob/main/object_detection/Train_custom_model_tutorial.ipynb\n",
    "https://stackoverflow.com/questions/71000120/colab-0-unimplemented-dnn-library-is-not-found"
   ]
  },
  {
   "cell_type": "code",
   "execution_count": null,
   "metadata": {
    "colab": {
     "base_uri": "https://localhost:8080/"
    },
    "executionInfo": {
     "elapsed": 113630,
     "status": "ok",
     "timestamp": 1654831668882,
     "user": {
      "displayName": "Bui Thanh Liem B1812353",
      "userId": "08641669646768133469"
     },
     "user_tz": -420
    },
    "id": "vTDlGpXSmwBu",
    "outputId": "edc697eb-192f-49ce-db57-3a3e56775017",
    "pycharm": {
     "name": "#%%\n"
    }
   },
   "outputs": [
    {
     "output_type": "stream",
     "name": "stdout",
     "text": [
      "Mounted at /content/drive\n"
     ]
    }
   ],
   "source": [
    "from google.colab import drive\n",
    "drive.mount('/content/drive')"
   ]
  },
  {
   "cell_type": "code",
   "execution_count": null,
   "metadata": {
    "id": "6TYgtTRWmzXo",
    "pycharm": {
     "name": "#%%\n"
    }
   },
   "outputs": [],
   "source": [
    "%cd /content/drive/MyDrive/Nam4_HK2/TTTT/Face_mask_Detection/Effi3\n",
    "!pip install -r requirements.txt"
   ]
  },
  {
   "cell_type": "code",
   "execution_count": null,
   "metadata": {
    "id": "aShekpdxd64-",
    "pycharm": {
     "name": "#%%\n"
    }
   },
   "outputs": [],
   "source": [
    "# !pip install tensorflow==2.7.0\n",
    "# import os\n",
    "# os.kill(os.getpid(), 9)"
   ]
  },
  {
   "cell_type": "code",
   "execution_count": null,
   "metadata": {
    "id": "bW-BPdD547sr",
    "pycharm": {
     "name": "#%%\n"
    }
   },
   "outputs": [],
   "source": [
    "# !pip install folium==0.2.1\n",
    "# !pip install protobuf<3.20\n",
    "!pip install tflite-model-maker\n",
    "!pip install tflite-support\n",
    "# import os\n",
    "# os.kill(os.getpid(), 9)\n",
    "\n",
    "\n",
    "# !pip install -q tflite-model-maker\n",
    "# !pip install -q tflite-support\n",
    "# !pip uninstall -y tensorflow && pip install -q tensorflow==2.8.0\n"
   ]
  },
  {
   "cell_type": "code",
   "execution_count": null,
   "metadata": {
    "colab": {
     "base_uri": "https://localhost:8080/"
    },
    "executionInfo": {
     "elapsed": 7367,
     "status": "ok",
     "timestamp": 1654831877292,
     "user": {
      "displayName": "Bui Thanh Liem B1812353",
      "userId": "08641669646768133469"
     },
     "user_tz": -420
    },
    "id": "MG9afLwU-e4I",
    "outputId": "1888247c-b139-4537-f190-81ff59756254",
    "pycharm": {
     "name": "#%%\n"
    }
   },
   "outputs": [
    {
     "output_type": "stream",
     "name": "stdout",
     "text": [
      "Drive already mounted at /content/drive; to attempt to forcibly remount, call drive.mount(\"/content/drive\", force_remount=True).\n"
     ]
    }
   ],
   "source": [
    "from google.colab import drive\n",
    "drive.mount('/content/drive')\n",
    "import numpy as np\n",
    "import os\n",
    "\n",
    "from tflite_model_maker.config import ExportFormat, QuantizationConfig\n",
    "from tflite_model_maker import model_spec\n",
    "from tflite_model_maker import object_detector\n",
    "\n",
    "from tflite_support import metadata\n",
    "\n",
    "import tensorflow as tf\n",
    "assert tf.__version__.startswith('2')\n",
    "\n",
    "tf.get_logger().setLevel('ERROR')\n",
    "from absl import logging\n",
    "logging.set_verbosity(logging.ERROR)\n"
   ]
  },
  {
   "cell_type": "code",
   "execution_count": null,
   "metadata": {
    "colab": {
     "base_uri": "https://localhost:8080/"
    },
    "executionInfo": {
     "elapsed": 4434,
     "status": "ok",
     "timestamp": 1654831884316,
     "user": {
      "displayName": "Bui Thanh Liem B1812353",
      "userId": "08641669646768133469"
     },
     "user_tz": -420
    },
    "id": "gkfTbUktzThs",
    "outputId": "326a98eb-6828-4226-b197-8aa194942bc6",
    "pycharm": {
     "name": "#%%\n"
    }
   },
   "outputs": [
    {
     "output_type": "stream",
     "name": "stdout",
     "text": [
      "Version:  2.8.2\n",
      "GPU is available\n"
     ]
    }
   ],
   "source": [
    "print(\"Version: \", tf.__version__)\n",
    "print(\"GPU is\", \"available\" if tf.test.is_gpu_available() else \"NOT AVAILABLE\")"
   ]
  },
  {
   "cell_type": "markdown",
   "metadata": {
    "id": "_aQfT5Euo4cU",
    "pycharm": {
     "name": "#%% md\n"
    }
   },
   "source": [
    "# **Moxa3K**"
   ]
  },
  {
   "cell_type": "code",
   "execution_count": null,
   "metadata": {
    "colab": {
     "base_uri": "https://localhost:8080/"
    },
    "executionInfo": {
     "elapsed": 125714,
     "status": "ok",
     "timestamp": 1654832017395,
     "user": {
      "displayName": "Bui Thanh Liem B1812353",
      "userId": "08641669646768133469"
     },
     "user_tz": -420
    },
    "id": "eERMKOHKo1Kg",
    "outputId": "f33c0cac-8e5e-4974-af17-bf05064d0e85",
    "pycharm": {
     "name": "#%%\n"
    }
   },
   "outputs": [
    {
     "output_type": "stream",
     "name": "stdout",
     "text": [
      "2366\n",
      "377\n",
      "184\n"
     ]
    }
   ],
   "source": [
    "#load data\n",
    "path = '/content/drive/MyDrive/Nam4_HK2/TTTT/Face_mask_Detection/Effi3/'\n",
    "\n",
    "train_data = object_detector.DataLoader.from_pascal_voc(\n",
    "    path + 'Moxa3K_Effi3/train',\n",
    "    path + 'Moxa3K_Effi3/train',\n",
    "    ['nomask', 'mask']\n",
    ")\n",
    "\n",
    "val_data = object_detector.DataLoader.from_pascal_voc(\n",
    "    path + 'Moxa3K_Effi3/valid',\n",
    "    path + 'Moxa3K_Effi3/valid',\n",
    "    ['nomask', 'mask']\n",
    ")\n",
    "\n",
    "test_data = object_detector.DataLoader.from_pascal_voc(\n",
    "    path + 'Moxa3K_Effi3/test',\n",
    "    path + 'Moxa3K_Effi3/test',\n",
    "    ['nomask', 'mask']\n",
    ")\n",
    "\n",
    "print(len(train_data))\n",
    "print(len(val_data))\n",
    "print(len(test_data))"
   ]
  },
  {
   "cell_type": "code",
   "execution_count": null,
   "metadata": {
    "id": "Ow_z-I8fp7Pv",
    "pycharm": {
     "name": "#%%\n"
    }
   },
   "outputs": [],
   "source": [
    "spec = model_spec.get('efficientdet_lite3')"
   ]
  },
  {
   "cell_type": "code",
   "execution_count": null,
   "metadata": {
    "colab": {
     "base_uri": "https://localhost:8080/"
    },
    "id": "-lpGZ2x3qDsD",
    "executionInfo": {
     "status": "ok",
     "timestamp": 1654848393901,
     "user_tz": -420,
     "elapsed": 16376512,
     "user": {
      "displayName": "Bui Thanh Liem B1812353",
      "userId": "08641669646768133469"
     }
    },
    "outputId": "3c82507e-9b9f-456d-af5f-ff122d0fa778",
    "pycharm": {
     "name": "#%%\n"
    }
   },
   "outputs": [
    {
     "output_type": "stream",
     "name": "stdout",
     "text": [
      "Epoch 1/100\n",
      "147/147 [==============================] - 220s 1s/step - det_loss: 1.0503 - cls_loss: 0.6347 - box_loss: 0.0083 - reg_l2_loss: 0.0926 - loss: 1.1428 - learning_rate: 0.0140 - gradient_norm: 2.0264 - val_det_loss: 0.7696 - val_cls_loss: 0.4757 - val_box_loss: 0.0059 - val_reg_l2_loss: 0.0927 - val_loss: 0.8623\n",
      "Epoch 2/100\n",
      "147/147 [==============================] - 161s 1s/step - det_loss: 0.6257 - cls_loss: 0.3652 - box_loss: 0.0052 - reg_l2_loss: 0.0928 - loss: 0.7185 - learning_rate: 0.0200 - gradient_norm: 2.1407 - val_det_loss: 0.7336 - val_cls_loss: 0.4247 - val_box_loss: 0.0062 - val_reg_l2_loss: 0.0929 - val_loss: 0.8265\n",
      "Epoch 3/100\n",
      "147/147 [==============================] - 160s 1s/step - det_loss: 0.5737 - cls_loss: 0.3374 - box_loss: 0.0047 - reg_l2_loss: 0.0930 - loss: 0.6667 - learning_rate: 0.0200 - gradient_norm: 1.9337 - val_det_loss: 0.6519 - val_cls_loss: 0.3947 - val_box_loss: 0.0051 - val_reg_l2_loss: 0.0931 - val_loss: 0.7450\n",
      "Epoch 4/100\n",
      "147/147 [==============================] - 161s 1s/step - det_loss: 0.5414 - cls_loss: 0.3205 - box_loss: 0.0044 - reg_l2_loss: 0.0931 - loss: 0.6346 - learning_rate: 0.0199 - gradient_norm: 1.7635 - val_det_loss: 0.6768 - val_cls_loss: 0.4228 - val_box_loss: 0.0051 - val_reg_l2_loss: 0.0932 - val_loss: 0.7700\n",
      "Epoch 5/100\n",
      "147/147 [==============================] - 178s 1s/step - det_loss: 0.5193 - cls_loss: 0.3066 - box_loss: 0.0043 - reg_l2_loss: 0.0932 - loss: 0.6125 - learning_rate: 0.0199 - gradient_norm: 1.7712 - val_det_loss: 0.6128 - val_cls_loss: 0.3483 - val_box_loss: 0.0053 - val_reg_l2_loss: 0.0933 - val_loss: 0.7060\n",
      "Epoch 6/100\n",
      "147/147 [==============================] - 161s 1s/step - det_loss: 0.5108 - cls_loss: 0.2990 - box_loss: 0.0042 - reg_l2_loss: 0.0933 - loss: 0.6041 - learning_rate: 0.0198 - gradient_norm: 1.7371 - val_det_loss: 0.6439 - val_cls_loss: 0.3671 - val_box_loss: 0.0055 - val_reg_l2_loss: 0.0934 - val_loss: 0.7373\n",
      "Epoch 7/100\n",
      "147/147 [==============================] - 160s 1s/step - det_loss: 0.5007 - cls_loss: 0.2947 - box_loss: 0.0041 - reg_l2_loss: 0.0934 - loss: 0.5941 - learning_rate: 0.0198 - gradient_norm: 1.6905 - val_det_loss: 0.6147 - val_cls_loss: 0.3672 - val_box_loss: 0.0050 - val_reg_l2_loss: 0.0935 - val_loss: 0.7082\n",
      "Epoch 8/100\n",
      "147/147 [==============================] - 161s 1s/step - det_loss: 0.5066 - cls_loss: 0.3006 - box_loss: 0.0041 - reg_l2_loss: 0.0935 - loss: 0.6001 - learning_rate: 0.0197 - gradient_norm: 1.7766 - val_det_loss: 0.6284 - val_cls_loss: 0.3779 - val_box_loss: 0.0050 - val_reg_l2_loss: 0.0936 - val_loss: 0.7220\n",
      "Epoch 9/100\n",
      "147/147 [==============================] - 161s 1s/step - det_loss: 0.4966 - cls_loss: 0.2927 - box_loss: 0.0041 - reg_l2_loss: 0.0936 - loss: 0.5902 - learning_rate: 0.0196 - gradient_norm: 1.6701 - val_det_loss: 0.6344 - val_cls_loss: 0.3612 - val_box_loss: 0.0055 - val_reg_l2_loss: 0.0936 - val_loss: 0.7280\n",
      "Epoch 10/100\n",
      "147/147 [==============================] - 172s 1s/step - det_loss: 0.4760 - cls_loss: 0.2834 - box_loss: 0.0039 - reg_l2_loss: 0.0937 - loss: 0.5697 - learning_rate: 0.0195 - gradient_norm: 1.6057 - val_det_loss: 0.5870 - val_cls_loss: 0.3513 - val_box_loss: 0.0047 - val_reg_l2_loss: 0.0937 - val_loss: 0.6807\n",
      "Epoch 11/100\n",
      "147/147 [==============================] - 161s 1s/step - det_loss: 0.4784 - cls_loss: 0.2835 - box_loss: 0.0039 - reg_l2_loss: 0.0937 - loss: 0.5721 - learning_rate: 0.0194 - gradient_norm: 1.7250 - val_det_loss: 0.6004 - val_cls_loss: 0.3575 - val_box_loss: 0.0049 - val_reg_l2_loss: 0.0938 - val_loss: 0.6942\n",
      "Epoch 12/100\n",
      "147/147 [==============================] - 161s 1s/step - det_loss: 0.4658 - cls_loss: 0.2748 - box_loss: 0.0038 - reg_l2_loss: 0.0938 - loss: 0.5596 - learning_rate: 0.0193 - gradient_norm: 1.6480 - val_det_loss: 0.6768 - val_cls_loss: 0.3788 - val_box_loss: 0.0060 - val_reg_l2_loss: 0.0939 - val_loss: 0.7707\n",
      "Epoch 13/100\n",
      "147/147 [==============================] - 161s 1s/step - det_loss: 0.4630 - cls_loss: 0.2753 - box_loss: 0.0038 - reg_l2_loss: 0.0939 - loss: 0.5569 - learning_rate: 0.0192 - gradient_norm: 1.7319 - val_det_loss: 0.6956 - val_cls_loss: 0.3997 - val_box_loss: 0.0059 - val_reg_l2_loss: 0.0939 - val_loss: 0.7895\n",
      "Epoch 14/100\n",
      "147/147 [==============================] - 160s 1s/step - det_loss: 0.4642 - cls_loss: 0.2761 - box_loss: 0.0038 - reg_l2_loss: 0.0940 - loss: 0.5582 - learning_rate: 0.0191 - gradient_norm: 1.6359 - val_det_loss: 0.5818 - val_cls_loss: 0.3387 - val_box_loss: 0.0049 - val_reg_l2_loss: 0.0940 - val_loss: 0.6758\n",
      "Epoch 15/100\n",
      "147/147 [==============================] - 172s 1s/step - det_loss: 0.4503 - cls_loss: 0.2662 - box_loss: 0.0037 - reg_l2_loss: 0.0940 - loss: 0.5444 - learning_rate: 0.0190 - gradient_norm: 1.7240 - val_det_loss: 0.5843 - val_cls_loss: 0.3466 - val_box_loss: 0.0048 - val_reg_l2_loss: 0.0941 - val_loss: 0.6784\n",
      "Epoch 16/100\n",
      "147/147 [==============================] - 161s 1s/step - det_loss: 0.4524 - cls_loss: 0.2703 - box_loss: 0.0036 - reg_l2_loss: 0.0941 - loss: 0.5465 - learning_rate: 0.0188 - gradient_norm: 1.7514 - val_det_loss: 0.6308 - val_cls_loss: 0.3557 - val_box_loss: 0.0055 - val_reg_l2_loss: 0.0942 - val_loss: 0.7250\n",
      "Epoch 17/100\n",
      "147/147 [==============================] - 160s 1s/step - det_loss: 0.4478 - cls_loss: 0.2646 - box_loss: 0.0037 - reg_l2_loss: 0.0942 - loss: 0.5420 - learning_rate: 0.0187 - gradient_norm: 1.7028 - val_det_loss: 0.6068 - val_cls_loss: 0.3630 - val_box_loss: 0.0049 - val_reg_l2_loss: 0.0943 - val_loss: 0.7011\n",
      "Epoch 18/100\n",
      "147/147 [==============================] - 161s 1s/step - det_loss: 0.4456 - cls_loss: 0.2661 - box_loss: 0.0036 - reg_l2_loss: 0.0943 - loss: 0.5400 - learning_rate: 0.0185 - gradient_norm: 1.7557 - val_det_loss: 0.5927 - val_cls_loss: 0.3392 - val_box_loss: 0.0051 - val_reg_l2_loss: 0.0944 - val_loss: 0.6871\n",
      "Epoch 19/100\n",
      "147/147 [==============================] - 161s 1s/step - det_loss: 0.4429 - cls_loss: 0.2630 - box_loss: 0.0036 - reg_l2_loss: 0.0944 - loss: 0.5373 - learning_rate: 0.0183 - gradient_norm: 1.7569 - val_det_loss: 0.5803 - val_cls_loss: 0.3438 - val_box_loss: 0.0047 - val_reg_l2_loss: 0.0945 - val_loss: 0.6748\n",
      "Epoch 20/100\n",
      "147/147 [==============================] - 172s 1s/step - det_loss: 0.4391 - cls_loss: 0.2633 - box_loss: 0.0035 - reg_l2_loss: 0.0945 - loss: 0.5336 - learning_rate: 0.0181 - gradient_norm: 1.8578 - val_det_loss: 0.6828 - val_cls_loss: 0.4221 - val_box_loss: 0.0052 - val_reg_l2_loss: 0.0946 - val_loss: 0.7774\n",
      "Epoch 21/100\n",
      "147/147 [==============================] - 161s 1s/step - det_loss: 0.4476 - cls_loss: 0.2669 - box_loss: 0.0036 - reg_l2_loss: 0.0947 - loss: 0.5423 - learning_rate: 0.0180 - gradient_norm: 1.7758 - val_det_loss: 0.6772 - val_cls_loss: 0.3998 - val_box_loss: 0.0055 - val_reg_l2_loss: 0.0947 - val_loss: 0.7719\n",
      "Epoch 22/100\n",
      "147/147 [==============================] - 160s 1s/step - det_loss: 0.4358 - cls_loss: 0.2601 - box_loss: 0.0035 - reg_l2_loss: 0.0948 - loss: 0.5306 - learning_rate: 0.0178 - gradient_norm: 1.8131 - val_det_loss: 0.6243 - val_cls_loss: 0.3900 - val_box_loss: 0.0047 - val_reg_l2_loss: 0.0948 - val_loss: 0.7191\n",
      "Epoch 23/100\n",
      "147/147 [==============================] - 161s 1s/step - det_loss: 0.4375 - cls_loss: 0.2615 - box_loss: 0.0035 - reg_l2_loss: 0.0948 - loss: 0.5324 - learning_rate: 0.0176 - gradient_norm: 1.7454 - val_det_loss: 0.5930 - val_cls_loss: 0.3542 - val_box_loss: 0.0048 - val_reg_l2_loss: 0.0949 - val_loss: 0.6879\n",
      "Epoch 24/100\n",
      "147/147 [==============================] - 161s 1s/step - det_loss: 0.4248 - cls_loss: 0.2547 - box_loss: 0.0034 - reg_l2_loss: 0.0949 - loss: 0.5197 - learning_rate: 0.0173 - gradient_norm: 1.8395 - val_det_loss: 0.6039 - val_cls_loss: 0.3480 - val_box_loss: 0.0051 - val_reg_l2_loss: 0.0950 - val_loss: 0.6989\n",
      "Epoch 25/100\n",
      "147/147 [==============================] - 172s 1s/step - det_loss: 0.4195 - cls_loss: 0.2512 - box_loss: 0.0034 - reg_l2_loss: 0.0950 - loss: 0.5146 - learning_rate: 0.0171 - gradient_norm: 1.7676 - val_det_loss: 0.6127 - val_cls_loss: 0.3504 - val_box_loss: 0.0052 - val_reg_l2_loss: 0.0951 - val_loss: 0.7077\n",
      "Epoch 26/100\n",
      "147/147 [==============================] - 160s 1s/step - det_loss: 0.4123 - cls_loss: 0.2483 - box_loss: 0.0033 - reg_l2_loss: 0.0951 - loss: 0.5074 - learning_rate: 0.0169 - gradient_norm: 1.8474 - val_det_loss: 0.5806 - val_cls_loss: 0.3341 - val_box_loss: 0.0049 - val_reg_l2_loss: 0.0952 - val_loss: 0.6757\n",
      "Epoch 27/100\n",
      "147/147 [==============================] - 161s 1s/step - det_loss: 0.4189 - cls_loss: 0.2509 - box_loss: 0.0034 - reg_l2_loss: 0.0952 - loss: 0.5141 - learning_rate: 0.0167 - gradient_norm: 1.8797 - val_det_loss: 0.6969 - val_cls_loss: 0.3928 - val_box_loss: 0.0061 - val_reg_l2_loss: 0.0953 - val_loss: 0.7922\n",
      "Epoch 28/100\n",
      "147/147 [==============================] - 160s 1s/step - det_loss: 0.4106 - cls_loss: 0.2453 - box_loss: 0.0033 - reg_l2_loss: 0.0953 - loss: 0.5059 - learning_rate: 0.0164 - gradient_norm: 1.7364 - val_det_loss: 0.5747 - val_cls_loss: 0.3494 - val_box_loss: 0.0045 - val_reg_l2_loss: 0.0953 - val_loss: 0.6700\n",
      "Epoch 29/100\n",
      "147/147 [==============================] - 161s 1s/step - det_loss: 0.4113 - cls_loss: 0.2462 - box_loss: 0.0033 - reg_l2_loss: 0.0953 - loss: 0.5067 - learning_rate: 0.0162 - gradient_norm: 1.8372 - val_det_loss: 0.6465 - val_cls_loss: 0.3879 - val_box_loss: 0.0052 - val_reg_l2_loss: 0.0954 - val_loss: 0.7419\n",
      "Epoch 30/100\n",
      "147/147 [==============================] - 171s 1s/step - det_loss: 0.4071 - cls_loss: 0.2450 - box_loss: 0.0032 - reg_l2_loss: 0.0954 - loss: 0.5025 - learning_rate: 0.0159 - gradient_norm: 1.8938 - val_det_loss: 0.6746 - val_cls_loss: 0.3778 - val_box_loss: 0.0059 - val_reg_l2_loss: 0.0955 - val_loss: 0.7701\n",
      "Epoch 31/100\n",
      "147/147 [==============================] - 161s 1s/step - det_loss: 0.4016 - cls_loss: 0.2412 - box_loss: 0.0032 - reg_l2_loss: 0.0956 - loss: 0.4971 - learning_rate: 0.0157 - gradient_norm: 1.9338 - val_det_loss: 0.6260 - val_cls_loss: 0.3693 - val_box_loss: 0.0051 - val_reg_l2_loss: 0.0956 - val_loss: 0.7216\n",
      "Epoch 32/100\n",
      "147/147 [==============================] - 161s 1s/step - det_loss: 0.3994 - cls_loss: 0.2405 - box_loss: 0.0032 - reg_l2_loss: 0.0956 - loss: 0.4950 - learning_rate: 0.0154 - gradient_norm: 1.8267 - val_det_loss: 0.6387 - val_cls_loss: 0.3734 - val_box_loss: 0.0053 - val_reg_l2_loss: 0.0957 - val_loss: 0.7344\n",
      "Epoch 33/100\n",
      "147/147 [==============================] - 161s 1s/step - det_loss: 0.3973 - cls_loss: 0.2403 - box_loss: 0.0031 - reg_l2_loss: 0.0957 - loss: 0.4930 - learning_rate: 0.0151 - gradient_norm: 1.8475 - val_det_loss: 0.5712 - val_cls_loss: 0.3339 - val_box_loss: 0.0047 - val_reg_l2_loss: 0.0958 - val_loss: 0.6669\n",
      "Epoch 34/100\n",
      "147/147 [==============================] - 160s 1s/step - det_loss: 0.3939 - cls_loss: 0.2380 - box_loss: 0.0031 - reg_l2_loss: 0.0958 - loss: 0.4897 - learning_rate: 0.0149 - gradient_norm: 1.9083 - val_det_loss: 0.5921 - val_cls_loss: 0.3456 - val_box_loss: 0.0049 - val_reg_l2_loss: 0.0958 - val_loss: 0.6879\n",
      "Epoch 35/100\n",
      "147/147 [==============================] - 172s 1s/step - det_loss: 0.3929 - cls_loss: 0.2382 - box_loss: 0.0031 - reg_l2_loss: 0.0959 - loss: 0.4887 - learning_rate: 0.0146 - gradient_norm: 1.9186 - val_det_loss: 0.6010 - val_cls_loss: 0.3454 - val_box_loss: 0.0051 - val_reg_l2_loss: 0.0959 - val_loss: 0.6969\n",
      "Epoch 36/100\n",
      "147/147 [==============================] - 160s 1s/step - det_loss: 0.3907 - cls_loss: 0.2369 - box_loss: 0.0031 - reg_l2_loss: 0.0959 - loss: 0.4866 - learning_rate: 0.0143 - gradient_norm: 1.8899 - val_det_loss: 0.6106 - val_cls_loss: 0.3570 - val_box_loss: 0.0051 - val_reg_l2_loss: 0.0960 - val_loss: 0.7066\n",
      "Epoch 37/100\n",
      "147/147 [==============================] - 161s 1s/step - det_loss: 0.3851 - cls_loss: 0.2330 - box_loss: 0.0030 - reg_l2_loss: 0.0960 - loss: 0.4811 - learning_rate: 0.0140 - gradient_norm: 1.8756 - val_det_loss: 0.6194 - val_cls_loss: 0.3744 - val_box_loss: 0.0049 - val_reg_l2_loss: 0.0960 - val_loss: 0.7154\n",
      "Epoch 38/100\n",
      "147/147 [==============================] - 160s 1s/step - det_loss: 0.3802 - cls_loss: 0.2318 - box_loss: 0.0030 - reg_l2_loss: 0.0960 - loss: 0.4763 - learning_rate: 0.0137 - gradient_norm: 2.0104 - val_det_loss: 0.5907 - val_cls_loss: 0.3579 - val_box_loss: 0.0047 - val_reg_l2_loss: 0.0961 - val_loss: 0.6867\n",
      "Epoch 39/100\n",
      "147/147 [==============================] - 160s 1s/step - det_loss: 0.3765 - cls_loss: 0.2278 - box_loss: 0.0030 - reg_l2_loss: 0.0961 - loss: 0.4726 - learning_rate: 0.0134 - gradient_norm: 1.9262 - val_det_loss: 0.6116 - val_cls_loss: 0.3606 - val_box_loss: 0.0050 - val_reg_l2_loss: 0.0961 - val_loss: 0.7077\n",
      "Epoch 40/100\n",
      "147/147 [==============================] - 172s 1s/step - det_loss: 0.3742 - cls_loss: 0.2297 - box_loss: 0.0029 - reg_l2_loss: 0.0961 - loss: 0.4703 - learning_rate: 0.0131 - gradient_norm: 1.9702 - val_det_loss: 0.6276 - val_cls_loss: 0.3667 - val_box_loss: 0.0052 - val_reg_l2_loss: 0.0962 - val_loss: 0.7237\n",
      "Epoch 41/100\n",
      "147/147 [==============================] - 160s 1s/step - det_loss: 0.3757 - cls_loss: 0.2281 - box_loss: 0.0030 - reg_l2_loss: 0.0962 - loss: 0.4719 - learning_rate: 0.0128 - gradient_norm: 1.9800 - val_det_loss: 0.5981 - val_cls_loss: 0.3650 - val_box_loss: 0.0047 - val_reg_l2_loss: 0.0962 - val_loss: 0.6943\n",
      "Epoch 42/100\n",
      "147/147 [==============================] - 161s 1s/step - det_loss: 0.3615 - cls_loss: 0.2218 - box_loss: 0.0028 - reg_l2_loss: 0.0962 - loss: 0.4578 - learning_rate: 0.0125 - gradient_norm: 1.9189 - val_det_loss: 0.6225 - val_cls_loss: 0.3735 - val_box_loss: 0.0050 - val_reg_l2_loss: 0.0963 - val_loss: 0.7187\n",
      "Epoch 43/100\n",
      "147/147 [==============================] - 161s 1s/step - det_loss: 0.3712 - cls_loss: 0.2264 - box_loss: 0.0029 - reg_l2_loss: 0.0963 - loss: 0.4675 - learning_rate: 0.0122 - gradient_norm: 1.9974 - val_det_loss: 0.6730 - val_cls_loss: 0.3887 - val_box_loss: 0.0057 - val_reg_l2_loss: 0.0963 - val_loss: 0.7693\n",
      "Epoch 44/100\n",
      "147/147 [==============================] - 160s 1s/step - det_loss: 0.3593 - cls_loss: 0.2202 - box_loss: 0.0028 - reg_l2_loss: 0.0963 - loss: 0.4556 - learning_rate: 0.0119 - gradient_norm: 1.8109 - val_det_loss: 0.6297 - val_cls_loss: 0.3730 - val_box_loss: 0.0051 - val_reg_l2_loss: 0.0963 - val_loss: 0.7260\n",
      "Epoch 45/100\n",
      "147/147 [==============================] - 172s 1s/step - det_loss: 0.3575 - cls_loss: 0.2191 - box_loss: 0.0028 - reg_l2_loss: 0.0963 - loss: 0.4538 - learning_rate: 0.0116 - gradient_norm: 1.9149 - val_det_loss: 0.6616 - val_cls_loss: 0.3934 - val_box_loss: 0.0054 - val_reg_l2_loss: 0.0963 - val_loss: 0.7579\n",
      "Epoch 46/100\n",
      "147/147 [==============================] - 161s 1s/step - det_loss: 0.3567 - cls_loss: 0.2188 - box_loss: 0.0028 - reg_l2_loss: 0.0963 - loss: 0.4531 - learning_rate: 0.0113 - gradient_norm: 1.9100 - val_det_loss: 0.6349 - val_cls_loss: 0.3773 - val_box_loss: 0.0052 - val_reg_l2_loss: 0.0963 - val_loss: 0.7313\n",
      "Epoch 47/100\n",
      "147/147 [==============================] - 160s 1s/step - det_loss: 0.3441 - cls_loss: 0.2145 - box_loss: 0.0026 - reg_l2_loss: 0.0963 - loss: 0.4404 - learning_rate: 0.0110 - gradient_norm: 1.9145 - val_det_loss: 0.6514 - val_cls_loss: 0.3817 - val_box_loss: 0.0054 - val_reg_l2_loss: 0.0964 - val_loss: 0.7478\n",
      "Epoch 48/100\n",
      "147/147 [==============================] - 162s 1s/step - det_loss: 0.3412 - cls_loss: 0.2113 - box_loss: 0.0026 - reg_l2_loss: 0.0963 - loss: 0.4375 - learning_rate: 0.0106 - gradient_norm: 1.9541 - val_det_loss: 0.5856 - val_cls_loss: 0.3529 - val_box_loss: 0.0047 - val_reg_l2_loss: 0.0964 - val_loss: 0.6819\n",
      "Epoch 49/100\n",
      "147/147 [==============================] - 160s 1s/step - det_loss: 0.3379 - cls_loss: 0.2096 - box_loss: 0.0026 - reg_l2_loss: 0.0964 - loss: 0.4343 - learning_rate: 0.0103 - gradient_norm: 1.9078 - val_det_loss: 0.6471 - val_cls_loss: 0.3860 - val_box_loss: 0.0052 - val_reg_l2_loss: 0.0964 - val_loss: 0.7434\n",
      "Epoch 50/100\n",
      "147/147 [==============================] - 172s 1s/step - det_loss: 0.3380 - cls_loss: 0.2091 - box_loss: 0.0026 - reg_l2_loss: 0.0964 - loss: 0.4343 - learning_rate: 0.0100 - gradient_norm: 1.9267 - val_det_loss: 0.5744 - val_cls_loss: 0.3425 - val_box_loss: 0.0046 - val_reg_l2_loss: 0.0964 - val_loss: 0.6707\n",
      "Epoch 51/100\n",
      "147/147 [==============================] - 160s 1s/step - det_loss: 0.3383 - cls_loss: 0.2102 - box_loss: 0.0026 - reg_l2_loss: 0.0964 - loss: 0.4346 - learning_rate: 0.0097 - gradient_norm: 1.9688 - val_det_loss: 0.5883 - val_cls_loss: 0.3561 - val_box_loss: 0.0046 - val_reg_l2_loss: 0.0964 - val_loss: 0.6846\n",
      "Epoch 52/100\n",
      "147/147 [==============================] - 160s 1s/step - det_loss: 0.3259 - cls_loss: 0.2020 - box_loss: 0.0025 - reg_l2_loss: 0.0964 - loss: 0.4223 - learning_rate: 0.0094 - gradient_norm: 1.8811 - val_det_loss: 0.6175 - val_cls_loss: 0.3708 - val_box_loss: 0.0049 - val_reg_l2_loss: 0.0963 - val_loss: 0.7138\n",
      "Epoch 53/100\n",
      "147/147 [==============================] - 160s 1s/step - det_loss: 0.3269 - cls_loss: 0.2038 - box_loss: 0.0025 - reg_l2_loss: 0.0963 - loss: 0.4233 - learning_rate: 0.0090 - gradient_norm: 1.9247 - val_det_loss: 0.6119 - val_cls_loss: 0.3775 - val_box_loss: 0.0047 - val_reg_l2_loss: 0.0963 - val_loss: 0.7083\n",
      "Epoch 54/100\n",
      "147/147 [==============================] - 161s 1s/step - det_loss: 0.3302 - cls_loss: 0.2058 - box_loss: 0.0025 - reg_l2_loss: 0.0963 - loss: 0.4265 - learning_rate: 0.0087 - gradient_norm: 1.9433 - val_det_loss: 0.5858 - val_cls_loss: 0.3570 - val_box_loss: 0.0046 - val_reg_l2_loss: 0.0963 - val_loss: 0.6821\n",
      "Epoch 55/100\n",
      "147/147 [==============================] - 171s 1s/step - det_loss: 0.3235 - cls_loss: 0.2015 - box_loss: 0.0024 - reg_l2_loss: 0.0963 - loss: 0.4198 - learning_rate: 0.0084 - gradient_norm: 2.0266 - val_det_loss: 0.6025 - val_cls_loss: 0.3591 - val_box_loss: 0.0049 - val_reg_l2_loss: 0.0963 - val_loss: 0.6988\n",
      "Epoch 56/100\n",
      "147/147 [==============================] - 161s 1s/step - det_loss: 0.3231 - cls_loss: 0.2023 - box_loss: 0.0024 - reg_l2_loss: 0.0963 - loss: 0.4194 - learning_rate: 0.0081 - gradient_norm: 1.9701 - val_det_loss: 0.5958 - val_cls_loss: 0.3652 - val_box_loss: 0.0046 - val_reg_l2_loss: 0.0963 - val_loss: 0.6921\n",
      "Epoch 57/100\n",
      "147/147 [==============================] - 161s 1s/step - det_loss: 0.3188 - cls_loss: 0.1999 - box_loss: 0.0024 - reg_l2_loss: 0.0963 - loss: 0.4151 - learning_rate: 0.0078 - gradient_norm: 2.0269 - val_det_loss: 0.6334 - val_cls_loss: 0.3676 - val_box_loss: 0.0053 - val_reg_l2_loss: 0.0963 - val_loss: 0.7297\n",
      "Epoch 58/100\n",
      "147/147 [==============================] - 161s 1s/step - det_loss: 0.3167 - cls_loss: 0.1982 - box_loss: 0.0024 - reg_l2_loss: 0.0963 - loss: 0.4130 - learning_rate: 0.0075 - gradient_norm: 2.0130 - val_det_loss: 0.6415 - val_cls_loss: 0.3836 - val_box_loss: 0.0052 - val_reg_l2_loss: 0.0963 - val_loss: 0.7378\n",
      "Epoch 59/100\n",
      "147/147 [==============================] - 160s 1s/step - det_loss: 0.3161 - cls_loss: 0.1990 - box_loss: 0.0023 - reg_l2_loss: 0.0963 - loss: 0.4124 - learning_rate: 0.0072 - gradient_norm: 1.9963 - val_det_loss: 0.6174 - val_cls_loss: 0.3656 - val_box_loss: 0.0050 - val_reg_l2_loss: 0.0963 - val_loss: 0.7137\n",
      "Epoch 60/100\n",
      "147/147 [==============================] - 172s 1s/step - det_loss: 0.3098 - cls_loss: 0.1946 - box_loss: 0.0023 - reg_l2_loss: 0.0962 - loss: 0.4060 - learning_rate: 0.0069 - gradient_norm: 1.9791 - val_det_loss: 0.6475 - val_cls_loss: 0.4001 - val_box_loss: 0.0049 - val_reg_l2_loss: 0.0962 - val_loss: 0.7438\n",
      "Epoch 61/100\n",
      "147/147 [==============================] - 161s 1s/step - det_loss: 0.3048 - cls_loss: 0.1926 - box_loss: 0.0022 - reg_l2_loss: 0.0962 - loss: 0.4010 - learning_rate: 0.0066 - gradient_norm: 1.9864 - val_det_loss: 0.6863 - val_cls_loss: 0.4140 - val_box_loss: 0.0054 - val_reg_l2_loss: 0.0962 - val_loss: 0.7826\n",
      "Epoch 62/100\n",
      "147/147 [==============================] - 161s 1s/step - det_loss: 0.3104 - cls_loss: 0.1950 - box_loss: 0.0023 - reg_l2_loss: 0.0962 - loss: 0.4066 - learning_rate: 0.0063 - gradient_norm: 2.0858 - val_det_loss: 0.6040 - val_cls_loss: 0.3664 - val_box_loss: 0.0048 - val_reg_l2_loss: 0.0962 - val_loss: 0.7002\n",
      "Epoch 63/100\n",
      "147/147 [==============================] - 161s 1s/step - det_loss: 0.3004 - cls_loss: 0.1903 - box_loss: 0.0022 - reg_l2_loss: 0.0962 - loss: 0.3965 - learning_rate: 0.0060 - gradient_norm: 1.9762 - val_det_loss: 0.6855 - val_cls_loss: 0.4096 - val_box_loss: 0.0055 - val_reg_l2_loss: 0.0962 - val_loss: 0.7817\n",
      "Epoch 64/100\n",
      "147/147 [==============================] - 161s 1s/step - det_loss: 0.2964 - cls_loss: 0.1884 - box_loss: 0.0022 - reg_l2_loss: 0.0962 - loss: 0.3926 - learning_rate: 0.0057 - gradient_norm: 2.0407 - val_det_loss: 0.6208 - val_cls_loss: 0.3701 - val_box_loss: 0.0050 - val_reg_l2_loss: 0.0962 - val_loss: 0.7170\n",
      "Epoch 65/100\n",
      "147/147 [==============================] - 172s 1s/step - det_loss: 0.3025 - cls_loss: 0.1909 - box_loss: 0.0022 - reg_l2_loss: 0.0961 - loss: 0.3986 - learning_rate: 0.0054 - gradient_norm: 2.0194 - val_det_loss: 0.6579 - val_cls_loss: 0.4000 - val_box_loss: 0.0052 - val_reg_l2_loss: 0.0961 - val_loss: 0.7540\n",
      "Epoch 66/100\n",
      "147/147 [==============================] - 161s 1s/step - det_loss: 0.2943 - cls_loss: 0.1858 - box_loss: 0.0022 - reg_l2_loss: 0.0961 - loss: 0.3904 - learning_rate: 0.0051 - gradient_norm: 1.9962 - val_det_loss: 0.6376 - val_cls_loss: 0.3835 - val_box_loss: 0.0051 - val_reg_l2_loss: 0.0961 - val_loss: 0.7337\n",
      "Epoch 67/100\n",
      "147/147 [==============================] - 161s 1s/step - det_loss: 0.2930 - cls_loss: 0.1869 - box_loss: 0.0021 - reg_l2_loss: 0.0961 - loss: 0.3891 - learning_rate: 0.0049 - gradient_norm: 1.9736 - val_det_loss: 0.6468 - val_cls_loss: 0.3940 - val_box_loss: 0.0051 - val_reg_l2_loss: 0.0961 - val_loss: 0.7429\n",
      "Epoch 68/100\n",
      "147/147 [==============================] - 161s 1s/step - det_loss: 0.2862 - cls_loss: 0.1822 - box_loss: 0.0021 - reg_l2_loss: 0.0961 - loss: 0.3823 - learning_rate: 0.0046 - gradient_norm: 2.0599 - val_det_loss: 0.6212 - val_cls_loss: 0.3821 - val_box_loss: 0.0048 - val_reg_l2_loss: 0.0961 - val_loss: 0.7173\n",
      "Epoch 69/100\n",
      "147/147 [==============================] - 161s 1s/step - det_loss: 0.2864 - cls_loss: 0.1830 - box_loss: 0.0021 - reg_l2_loss: 0.0960 - loss: 0.3824 - learning_rate: 0.0043 - gradient_norm: 2.0736 - val_det_loss: 0.6523 - val_cls_loss: 0.3939 - val_box_loss: 0.0052 - val_reg_l2_loss: 0.0960 - val_loss: 0.7483\n",
      "Epoch 70/100\n",
      "147/147 [==============================] - 172s 1s/step - det_loss: 0.2806 - cls_loss: 0.1790 - box_loss: 0.0020 - reg_l2_loss: 0.0960 - loss: 0.3766 - learning_rate: 0.0041 - gradient_norm: 2.0505 - val_det_loss: 0.6215 - val_cls_loss: 0.3794 - val_box_loss: 0.0048 - val_reg_l2_loss: 0.0960 - val_loss: 0.7175\n",
      "Epoch 71/100\n",
      "147/147 [==============================] - 160s 1s/step - det_loss: 0.2828 - cls_loss: 0.1798 - box_loss: 0.0021 - reg_l2_loss: 0.0960 - loss: 0.3788 - learning_rate: 0.0038 - gradient_norm: 2.1097 - val_det_loss: 0.6368 - val_cls_loss: 0.3863 - val_box_loss: 0.0050 - val_reg_l2_loss: 0.0960 - val_loss: 0.7328\n",
      "Epoch 72/100\n",
      "147/147 [==============================] - 161s 1s/step - det_loss: 0.2831 - cls_loss: 0.1812 - box_loss: 0.0020 - reg_l2_loss: 0.0960 - loss: 0.3791 - learning_rate: 0.0036 - gradient_norm: 2.1222 - val_det_loss: 0.6234 - val_cls_loss: 0.3833 - val_box_loss: 0.0048 - val_reg_l2_loss: 0.0960 - val_loss: 0.7194\n",
      "Epoch 73/100\n",
      "147/147 [==============================] - 161s 1s/step - det_loss: 0.2706 - cls_loss: 0.1739 - box_loss: 0.0019 - reg_l2_loss: 0.0960 - loss: 0.3665 - learning_rate: 0.0033 - gradient_norm: 1.9451 - val_det_loss: 0.6087 - val_cls_loss: 0.3751 - val_box_loss: 0.0047 - val_reg_l2_loss: 0.0959 - val_loss: 0.7046\n",
      "Epoch 74/100\n",
      "147/147 [==============================] - 160s 1s/step - det_loss: 0.2746 - cls_loss: 0.1760 - box_loss: 0.0020 - reg_l2_loss: 0.0959 - loss: 0.3706 - learning_rate: 0.0031 - gradient_norm: 2.0622 - val_det_loss: 0.5857 - val_cls_loss: 0.3592 - val_box_loss: 0.0045 - val_reg_l2_loss: 0.0959 - val_loss: 0.6816\n",
      "Epoch 75/100\n",
      "147/147 [==============================] - 172s 1s/step - det_loss: 0.2764 - cls_loss: 0.1763 - box_loss: 0.0020 - reg_l2_loss: 0.0959 - loss: 0.3723 - learning_rate: 0.0029 - gradient_norm: 1.9915 - val_det_loss: 0.6421 - val_cls_loss: 0.3896 - val_box_loss: 0.0051 - val_reg_l2_loss: 0.0959 - val_loss: 0.7380\n",
      "Epoch 76/100\n",
      "147/147 [==============================] - 160s 1s/step - det_loss: 0.2729 - cls_loss: 0.1755 - box_loss: 0.0019 - reg_l2_loss: 0.0959 - loss: 0.3688 - learning_rate: 0.0027 - gradient_norm: 2.1047 - val_det_loss: 0.6217 - val_cls_loss: 0.3893 - val_box_loss: 0.0046 - val_reg_l2_loss: 0.0959 - val_loss: 0.7176\n",
      "Epoch 77/100\n",
      "147/147 [==============================] - 160s 1s/step - det_loss: 0.2681 - cls_loss: 0.1731 - box_loss: 0.0019 - reg_l2_loss: 0.0959 - loss: 0.3639 - learning_rate: 0.0024 - gradient_norm: 2.0416 - val_det_loss: 0.6234 - val_cls_loss: 0.3948 - val_box_loss: 0.0046 - val_reg_l2_loss: 0.0959 - val_loss: 0.7192\n",
      "Epoch 78/100\n",
      "147/147 [==============================] - 161s 1s/step - det_loss: 0.2679 - cls_loss: 0.1745 - box_loss: 0.0019 - reg_l2_loss: 0.0959 - loss: 0.3638 - learning_rate: 0.0022 - gradient_norm: 2.0921 - val_det_loss: 0.6175 - val_cls_loss: 0.3826 - val_box_loss: 0.0047 - val_reg_l2_loss: 0.0959 - val_loss: 0.7134\n",
      "Epoch 79/100\n",
      "147/147 [==============================] - 161s 1s/step - det_loss: 0.2701 - cls_loss: 0.1749 - box_loss: 0.0019 - reg_l2_loss: 0.0958 - loss: 0.3659 - learning_rate: 0.0020 - gradient_norm: 2.0242 - val_det_loss: 0.6054 - val_cls_loss: 0.3724 - val_box_loss: 0.0047 - val_reg_l2_loss: 0.0958 - val_loss: 0.7012\n",
      "Epoch 80/100\n",
      "147/147 [==============================] - 171s 1s/step - det_loss: 0.2647 - cls_loss: 0.1705 - box_loss: 0.0019 - reg_l2_loss: 0.0958 - loss: 0.3605 - learning_rate: 0.0019 - gradient_norm: 1.9578 - val_det_loss: 0.6376 - val_cls_loss: 0.3897 - val_box_loss: 0.0050 - val_reg_l2_loss: 0.0958 - val_loss: 0.7334\n",
      "Epoch 81/100\n",
      "147/147 [==============================] - 161s 1s/step - det_loss: 0.2613 - cls_loss: 0.1689 - box_loss: 0.0018 - reg_l2_loss: 0.0958 - loss: 0.3571 - learning_rate: 0.0017 - gradient_norm: 2.0636 - val_det_loss: 0.6027 - val_cls_loss: 0.3695 - val_box_loss: 0.0047 - val_reg_l2_loss: 0.0958 - val_loss: 0.6985\n",
      "Epoch 82/100\n",
      "147/147 [==============================] - 161s 1s/step - det_loss: 0.2622 - cls_loss: 0.1688 - box_loss: 0.0019 - reg_l2_loss: 0.0958 - loss: 0.3580 - learning_rate: 0.0015 - gradient_norm: 2.0872 - val_det_loss: 0.5883 - val_cls_loss: 0.3632 - val_box_loss: 0.0045 - val_reg_l2_loss: 0.0958 - val_loss: 0.6841\n",
      "Epoch 83/100\n",
      "147/147 [==============================] - 160s 1s/step - det_loss: 0.2647 - cls_loss: 0.1710 - box_loss: 0.0019 - reg_l2_loss: 0.0958 - loss: 0.3605 - learning_rate: 0.0013 - gradient_norm: 2.0983 - val_det_loss: 0.6326 - val_cls_loss: 0.3903 - val_box_loss: 0.0048 - val_reg_l2_loss: 0.0958 - val_loss: 0.7284\n",
      "Epoch 84/100\n",
      "147/147 [==============================] - 161s 1s/step - det_loss: 0.2589 - cls_loss: 0.1677 - box_loss: 0.0018 - reg_l2_loss: 0.0958 - loss: 0.3546 - learning_rate: 0.0012 - gradient_norm: 2.0053 - val_det_loss: 0.6245 - val_cls_loss: 0.3899 - val_box_loss: 0.0047 - val_reg_l2_loss: 0.0958 - val_loss: 0.7203\n",
      "Epoch 85/100\n",
      "147/147 [==============================] - 171s 1s/step - det_loss: 0.2577 - cls_loss: 0.1674 - box_loss: 0.0018 - reg_l2_loss: 0.0958 - loss: 0.3535 - learning_rate: 0.0010 - gradient_norm: 2.0534 - val_det_loss: 0.6214 - val_cls_loss: 0.3887 - val_box_loss: 0.0047 - val_reg_l2_loss: 0.0958 - val_loss: 0.7172\n",
      "Epoch 86/100\n",
      "147/147 [==============================] - 161s 1s/step - det_loss: 0.2634 - cls_loss: 0.1710 - box_loss: 0.0018 - reg_l2_loss: 0.0958 - loss: 0.3591 - learning_rate: 9.0407e-04 - gradient_norm: 2.0810 - val_det_loss: 0.6144 - val_cls_loss: 0.3832 - val_box_loss: 0.0046 - val_reg_l2_loss: 0.0957 - val_loss: 0.7101\n",
      "Epoch 87/100\n",
      "147/147 [==============================] - 160s 1s/step - det_loss: 0.2588 - cls_loss: 0.1677 - box_loss: 0.0018 - reg_l2_loss: 0.0957 - loss: 0.3546 - learning_rate: 7.7685e-04 - gradient_norm: 2.0391 - val_det_loss: 0.6283 - val_cls_loss: 0.3896 - val_box_loss: 0.0048 - val_reg_l2_loss: 0.0957 - val_loss: 0.7240\n",
      "Epoch 88/100\n",
      "147/147 [==============================] - 161s 1s/step - det_loss: 0.2585 - cls_loss: 0.1677 - box_loss: 0.0018 - reg_l2_loss: 0.0957 - loss: 0.3543 - learning_rate: 6.5892e-04 - gradient_norm: 2.0468 - val_det_loss: 0.6287 - val_cls_loss: 0.3909 - val_box_loss: 0.0048 - val_reg_l2_loss: 0.0957 - val_loss: 0.7245\n",
      "Epoch 89/100\n",
      "147/147 [==============================] - 161s 1s/step - det_loss: 0.2608 - cls_loss: 0.1688 - box_loss: 0.0018 - reg_l2_loss: 0.0957 - loss: 0.3566 - learning_rate: 5.5040e-04 - gradient_norm: 2.1374 - val_det_loss: 0.6277 - val_cls_loss: 0.3905 - val_box_loss: 0.0047 - val_reg_l2_loss: 0.0957 - val_loss: 0.7234\n",
      "Epoch 90/100\n",
      "147/147 [==============================] - 171s 1s/step - det_loss: 0.2554 - cls_loss: 0.1665 - box_loss: 0.0018 - reg_l2_loss: 0.0957 - loss: 0.3511 - learning_rate: 4.5139e-04 - gradient_norm: 2.0401 - val_det_loss: 0.6149 - val_cls_loss: 0.3802 - val_box_loss: 0.0047 - val_reg_l2_loss: 0.0957 - val_loss: 0.7106\n",
      "Epoch 91/100\n",
      "147/147 [==============================] - 161s 1s/step - det_loss: 0.2568 - cls_loss: 0.1678 - box_loss: 0.0018 - reg_l2_loss: 0.0957 - loss: 0.3525 - learning_rate: 3.6199e-04 - gradient_norm: 2.0642 - val_det_loss: 0.6184 - val_cls_loss: 0.3854 - val_box_loss: 0.0047 - val_reg_l2_loss: 0.0957 - val_loss: 0.7141\n",
      "Epoch 92/100\n",
      "147/147 [==============================] - 161s 1s/step - det_loss: 0.2559 - cls_loss: 0.1665 - box_loss: 0.0018 - reg_l2_loss: 0.0957 - loss: 0.3516 - learning_rate: 2.8230e-04 - gradient_norm: 2.0804 - val_det_loss: 0.6258 - val_cls_loss: 0.3889 - val_box_loss: 0.0047 - val_reg_l2_loss: 0.0957 - val_loss: 0.7215\n",
      "Epoch 93/100\n",
      "147/147 [==============================] - 160s 1s/step - det_loss: 0.2468 - cls_loss: 0.1612 - box_loss: 0.0017 - reg_l2_loss: 0.0957 - loss: 0.3425 - learning_rate: 2.1239e-04 - gradient_norm: 1.9595 - val_det_loss: 0.6227 - val_cls_loss: 0.3880 - val_box_loss: 0.0047 - val_reg_l2_loss: 0.0957 - val_loss: 0.7184\n",
      "Epoch 94/100\n",
      "147/147 [==============================] - 161s 1s/step - det_loss: 0.2553 - cls_loss: 0.1658 - box_loss: 0.0018 - reg_l2_loss: 0.0957 - loss: 0.3510 - learning_rate: 1.5234e-04 - gradient_norm: 2.0372 - val_det_loss: 0.6246 - val_cls_loss: 0.3879 - val_box_loss: 0.0047 - val_reg_l2_loss: 0.0957 - val_loss: 0.7203\n",
      "Epoch 95/100\n",
      "147/147 [==============================] - 172s 1s/step - det_loss: 0.2567 - cls_loss: 0.1664 - box_loss: 0.0018 - reg_l2_loss: 0.0957 - loss: 0.3524 - learning_rate: 1.0221e-04 - gradient_norm: 2.0350 - val_det_loss: 0.6282 - val_cls_loss: 0.3914 - val_box_loss: 0.0047 - val_reg_l2_loss: 0.0957 - val_loss: 0.7239\n",
      "Epoch 96/100\n",
      "147/147 [==============================] - 161s 1s/step - det_loss: 0.2495 - cls_loss: 0.1621 - box_loss: 0.0017 - reg_l2_loss: 0.0957 - loss: 0.3452 - learning_rate: 6.2039e-05 - gradient_norm: 1.9554 - val_det_loss: 0.6288 - val_cls_loss: 0.3906 - val_box_loss: 0.0048 - val_reg_l2_loss: 0.0957 - val_loss: 0.7245\n",
      "Epoch 97/100\n",
      "147/147 [==============================] - 160s 1s/step - det_loss: 0.2528 - cls_loss: 0.1647 - box_loss: 0.0018 - reg_l2_loss: 0.0957 - loss: 0.3485 - learning_rate: 3.1877e-05 - gradient_norm: 2.0230 - val_det_loss: 0.6268 - val_cls_loss: 0.3890 - val_box_loss: 0.0048 - val_reg_l2_loss: 0.0957 - val_loss: 0.7225\n",
      "Epoch 98/100\n",
      "147/147 [==============================] - 161s 1s/step - det_loss: 0.2551 - cls_loss: 0.1661 - box_loss: 0.0018 - reg_l2_loss: 0.0957 - loss: 0.3508 - learning_rate: 1.1752e-05 - gradient_norm: 2.0675 - val_det_loss: 0.6279 - val_cls_loss: 0.3894 - val_box_loss: 0.0048 - val_reg_l2_loss: 0.0957 - val_loss: 0.7236\n",
      "Epoch 99/100\n",
      "147/147 [==============================] - 161s 1s/step - det_loss: 0.2511 - cls_loss: 0.1637 - box_loss: 0.0017 - reg_l2_loss: 0.0957 - loss: 0.3468 - learning_rate: 1.6839e-06 - gradient_norm: 2.0399 - val_det_loss: 0.6291 - val_cls_loss: 0.3904 - val_box_loss: 0.0048 - val_reg_l2_loss: 0.0957 - val_loss: 0.7248\n",
      "Epoch 100/100\n",
      "147/147 [==============================] - 172s 1s/step - det_loss: 0.2556 - cls_loss: 0.1662 - box_loss: 0.0018 - reg_l2_loss: 0.0957 - loss: 0.3513 - learning_rate: 1.6835e-06 - gradient_norm: 2.0526 - val_det_loss: 0.6269 - val_cls_loss: 0.3891 - val_box_loss: 0.0048 - val_reg_l2_loss: 0.0957 - val_loss: 0.7226\n"
     ]
    }
   ],
   "source": [
    "model = object_detector.create(train_data, model_spec=spec, batch_size=16, train_whole_model=True, epochs=100, validation_data=val_data)"
   ]
  },
  {
   "cell_type": "code",
   "execution_count": null,
   "metadata": {
    "id": "mRlq8_S6_K3K",
    "pycharm": {
     "name": "#%%\n"
    }
   },
   "outputs": [],
   "source": [
    "model.evaluate(val_data)"
   ]
  },
  {
   "cell_type": "code",
   "execution_count": null,
   "metadata": {
    "id": "eaKLxoK0_lIb",
    "pycharm": {
     "name": "#%%\n"
    }
   },
   "outputs": [],
   "source": [
    "model.export(export_dir='/content/drive/MyDrive/Nam4_HK2/TTTT/Face_mask_Detection/Effi3/', tflite_filename='Moxa3K_Effi3.tflite')"
   ]
  },
  {
   "cell_type": "code",
   "execution_count": null,
   "metadata": {
    "id": "Jt7tjOiu_6if",
    "colab": {
     "base_uri": "https://localhost:8080/"
    },
    "executionInfo": {
     "status": "ok",
     "timestamp": 1654853395950,
     "user_tz": -420,
     "elapsed": 3163417,
     "user": {
      "displayName": "Bui Thanh Liem B1812353",
      "userId": "08641669646768133469"
     }
    },
    "outputId": "ecd65b5f-2b64-43b3-824c-e476efff967b",
    "pycharm": {
     "name": "#%%\n"
    }
   },
   "outputs": [
    {
     "output_type": "stream",
     "name": "stdout",
     "text": [
      "184/184 [==============================] - 3160s 17s/step\n",
      "\n"
     ]
    },
    {
     "output_type": "execute_result",
     "data": {
      "text/plain": [
       "{'AP': 0.2652047,\n",
       " 'AP50': 0.6791262,\n",
       " 'AP75': 0.11344202,\n",
       " 'AP_/mask': 0.29519603,\n",
       " 'AP_/nomask': 0.23521338,\n",
       " 'APl': 0.3616348,\n",
       " 'APm': 0.29354832,\n",
       " 'APs': 0.18738617,\n",
       " 'ARl': 0.475641,\n",
       " 'ARm': 0.4273026,\n",
       " 'ARmax1': 0.15154235,\n",
       " 'ARmax10': 0.38476983,\n",
       " 'ARmax100': 0.39996243,\n",
       " 'ARs': 0.30393618}"
      ]
     },
     "metadata": {},
     "execution_count": 11
    }
   ],
   "source": [
    "model.evaluate_tflite('/content/drive/MyDrive/Nam4_HK2/TTTT/Face_mask_Detection/Effi3/Moxa3K_Effi3.tflite', test_data)"
   ]
  },
  {
   "cell_type": "markdown",
   "metadata": {
    "id": "FxraGR0T0eDY",
    "pycharm": {
     "name": "#%% md\n"
    }
   },
   "source": [
    "# **Val_ds853**"
   ]
  },
  {
   "cell_type": "code",
   "execution_count": null,
   "metadata": {
    "id": "LB99hbMhADVJ",
    "pycharm": {
     "name": "#%%\n"
    }
   },
   "outputs": [],
   "source": [
    "path = '/content/drive/MyDrive/Nam4_HK2/TTTT/Face_mask_Detection/Effi3/test_Effi3_853/'\n",
    "\n",
    "test_ds853 = object_detector.DataLoader.from_pascal_voc(\n",
    "    path + 'test',\n",
    "    path + 'test',\n",
    "    ['0', '1']\n",
    ")\n"
   ]
  },
  {
   "cell_type": "code",
   "execution_count": null,
   "metadata": {
    "id": "w0vbD8JQFIdh",
    "pycharm": {
     "name": "#%%\n"
    }
   },
   "outputs": [],
   "source": [
    "model = object_detector.ObjectDetector(\n",
    "    spec,\n",
    "    {0:'0', 1:'1'},\n",
    "    '/content/drive/MyDrive/Nam4_HK2/TTTT/Face_mask_Detection/Effi3/Moxa3K_Effi3.tflite'\n",
    ")"
   ]
  },
  {
   "cell_type": "code",
   "execution_count": null,
   "metadata": {
    "id": "u6E1dxyj0xUd",
    "colab": {
     "base_uri": "https://localhost:8080/"
    },
    "executionInfo": {
     "status": "ok",
     "timestamp": 1654869183633,
     "user_tz": -420,
     "elapsed": 14571362,
     "user": {
      "displayName": "Bui Thanh Liem B1812353",
      "userId": "08641669646768133469"
     }
    },
    "outputId": "4c198156-524b-41ae-b21e-2c16fbb7c214",
    "pycharm": {
     "name": "#%%\n"
    }
   },
   "outputs": [
    {
     "output_type": "stream",
     "name": "stdout",
     "text": [
      "848/848 [==============================] - 14568s 17s/step\n",
      "\n"
     ]
    },
    {
     "output_type": "execute_result",
     "data": {
      "text/plain": [
       "{'AP': 0.101872675,\n",
       " 'AP50': 0.41875607,\n",
       " 'AP75': 0.013339338,\n",
       " 'AP_/0': 0.07250106,\n",
       " 'AP_/1': 0.13124429,\n",
       " 'APl': 0.2838883,\n",
       " 'APm': 0.11567633,\n",
       " 'APs': 0.06722582,\n",
       " 'ARl': 0.38280642,\n",
       " 'ARm': 0.23442066,\n",
       " 'ARmax1': 0.07104072,\n",
       " 'ARmax10': 0.16479826,\n",
       " 'ARmax100': 0.1772046,\n",
       " 'ARs': 0.10714543}"
      ]
     },
     "metadata": {},
     "execution_count": 14
    }
   ],
   "source": [
    "model.evaluate_tflite('/content/drive/MyDrive/Nam4_HK2/TTTT/Face_mask_Detection/Effi3/Moxa3K_Effi3.tflite', test_ds853)"
   ]
  },
  {
   "cell_type": "markdown",
   "metadata": {
    "id": "sXyupguO01-x",
    "pycharm": {
     "name": "#%% md\n"
    }
   },
   "source": [
    "# **Facemask853**"
   ]
  },
  {
   "cell_type": "code",
   "execution_count": null,
   "metadata": {
    "id": "CKDS0VtE044i",
    "colab": {
     "base_uri": "https://localhost:8080/"
    },
    "executionInfo": {
     "status": "ok",
     "timestamp": 1654872473990,
     "user_tz": -420,
     "elapsed": 15645,
     "user": {
      "displayName": "Bui Thanh Liem B1812353",
      "userId": "08641669646768133469"
     }
    },
    "outputId": "fa59741f-17f4-40a1-99e4-e4e50b5d6e82",
    "pycharm": {
     "name": "#%%\n"
    }
   },
   "outputs": [
    {
     "output_type": "stream",
     "name": "stdout",
     "text": [
      "2366\n",
      "377\n",
      "184\n"
     ]
    }
   ],
   "source": [
    "#load data\n",
    "path = '/content/drive/MyDrive/Nam4_HK2/TTTT/Face_mask_Detection/Effi3/'\n",
    "\n",
    "train_853 = object_detector.DataLoader.from_pascal_voc(\n",
    "    path + '853_Effi3/train',\n",
    "    path + '853_Effi3/train',\n",
    "    ['0', '1']\n",
    ")\n",
    "\n",
    "val_853 = object_detector.DataLoader.from_pascal_voc(\n",
    "    path + '853_Effi3/valid',\n",
    "    path + '853_Effi3/valid',\n",
    "    ['0', '1']\n",
    ")\n",
    "\n",
    "test_853 = object_detector.DataLoader.from_pascal_voc(\n",
    "    path + '853_Effi3/test',\n",
    "    path + '853_Effi3/test',\n",
    "    ['0', '1']\n",
    ")\n",
    "\n",
    "print(len(train_data))\n",
    "print(len(val_data))\n",
    "print(len(test_data))"
   ]
  },
  {
   "cell_type": "code",
   "execution_count": null,
   "metadata": {
    "id": "dwA3e26Y1LRU",
    "pycharm": {
     "name": "#%%\n"
    }
   },
   "outputs": [],
   "source": [
    "spec_853 = model_spec.get('efficientdet_lite3')"
   ]
  },
  {
   "cell_type": "code",
   "execution_count": null,
   "metadata": {
    "id": "Bon3WxcR1Vlr",
    "colab": {
     "base_uri": "https://localhost:8080/"
    },
    "executionInfo": {
     "status": "ok",
     "timestamp": 1654876608219,
     "user_tz": -420,
     "elapsed": 4129235,
     "user": {
      "displayName": "Bui Thanh Liem B1812353",
      "userId": "08641669646768133469"
     }
    },
    "outputId": "79aca33a-60d1-4ba1-d619-a37c6b88f22d",
    "pycharm": {
     "name": "#%%\n"
    }
   },
   "outputs": [
    {
     "output_type": "stream",
     "name": "stdout",
     "text": [
      "Epoch 1/100\n",
      "37/37 [==============================] - 83s 1s/step - det_loss: 1.4935 - cls_loss: 0.9420 - box_loss: 0.0110 - reg_l2_loss: 0.0925 - loss: 1.5860 - learning_rate: 0.0140 - gradient_norm: 1.4358\n",
      "Epoch 2/100\n",
      "37/37 [==============================] - 41s 1s/step - det_loss: 0.7774 - cls_loss: 0.4534 - box_loss: 0.0065 - reg_l2_loss: 0.0926 - loss: 0.8700 - learning_rate: 0.0200 - gradient_norm: 2.3227\n",
      "Epoch 3/100\n",
      "37/37 [==============================] - 41s 1s/step - det_loss: 0.5296 - cls_loss: 0.3278 - box_loss: 0.0040 - reg_l2_loss: 0.0927 - loss: 0.6223 - learning_rate: 0.0200 - gradient_norm: 2.1101\n",
      "Epoch 4/100\n",
      "37/37 [==============================] - 40s 1s/step - det_loss: 0.4468 - cls_loss: 0.2810 - box_loss: 0.0033 - reg_l2_loss: 0.0927 - loss: 0.5395 - learning_rate: 0.0199 - gradient_norm: 2.1113\n",
      "Epoch 5/100\n",
      "37/37 [==============================] - 41s 1s/step - det_loss: 0.4216 - cls_loss: 0.2555 - box_loss: 0.0033 - reg_l2_loss: 0.0928 - loss: 0.5144 - learning_rate: 0.0199 - gradient_norm: 2.1386\n",
      "Epoch 6/100\n",
      "37/37 [==============================] - 40s 1s/step - det_loss: 0.3849 - cls_loss: 0.2423 - box_loss: 0.0029 - reg_l2_loss: 0.0929 - loss: 0.4777 - learning_rate: 0.0198 - gradient_norm: 2.0065\n",
      "Epoch 7/100\n",
      "37/37 [==============================] - 40s 1s/step - det_loss: 0.3733 - cls_loss: 0.2367 - box_loss: 0.0027 - reg_l2_loss: 0.0929 - loss: 0.4662 - learning_rate: 0.0198 - gradient_norm: 2.0152\n",
      "Epoch 8/100\n",
      "37/37 [==============================] - 41s 1s/step - det_loss: 0.3324 - cls_loss: 0.2118 - box_loss: 0.0024 - reg_l2_loss: 0.0930 - loss: 0.4253 - learning_rate: 0.0197 - gradient_norm: 1.6795\n",
      "Epoch 9/100\n",
      "37/37 [==============================] - 41s 1s/step - det_loss: 0.3374 - cls_loss: 0.2111 - box_loss: 0.0025 - reg_l2_loss: 0.0930 - loss: 0.4304 - learning_rate: 0.0196 - gradient_norm: 1.7475\n",
      "Epoch 10/100\n",
      "37/37 [==============================] - 40s 1s/step - det_loss: 0.3523 - cls_loss: 0.2137 - box_loss: 0.0028 - reg_l2_loss: 0.0930 - loss: 0.4453 - learning_rate: 0.0195 - gradient_norm: 1.8891\n",
      "Epoch 11/100\n",
      "37/37 [==============================] - 40s 1s/step - det_loss: 0.3224 - cls_loss: 0.2034 - box_loss: 0.0024 - reg_l2_loss: 0.0930 - loss: 0.4155 - learning_rate: 0.0194 - gradient_norm: 1.7994\n",
      "Epoch 12/100\n",
      "37/37 [==============================] - 41s 1s/step - det_loss: 0.3186 - cls_loss: 0.2052 - box_loss: 0.0023 - reg_l2_loss: 0.0931 - loss: 0.4117 - learning_rate: 0.0193 - gradient_norm: 1.8852\n",
      "Epoch 13/100\n",
      "37/37 [==============================] - 41s 1s/step - det_loss: 0.2980 - cls_loss: 0.1945 - box_loss: 0.0021 - reg_l2_loss: 0.0931 - loss: 0.3911 - learning_rate: 0.0192 - gradient_norm: 1.6190\n",
      "Epoch 14/100\n",
      "37/37 [==============================] - 40s 1s/step - det_loss: 0.3027 - cls_loss: 0.1922 - box_loss: 0.0022 - reg_l2_loss: 0.0931 - loss: 0.3958 - learning_rate: 0.0191 - gradient_norm: 1.6081\n",
      "Epoch 15/100\n",
      "37/37 [==============================] - 41s 1s/step - det_loss: 0.2771 - cls_loss: 0.1804 - box_loss: 0.0019 - reg_l2_loss: 0.0931 - loss: 0.3703 - learning_rate: 0.0190 - gradient_norm: 1.3805\n",
      "Epoch 16/100\n",
      "37/37 [==============================] - 40s 1s/step - det_loss: 0.2829 - cls_loss: 0.1819 - box_loss: 0.0020 - reg_l2_loss: 0.0931 - loss: 0.3760 - learning_rate: 0.0188 - gradient_norm: 1.5964\n",
      "Epoch 17/100\n",
      "37/37 [==============================] - 41s 1s/step - det_loss: 0.2828 - cls_loss: 0.1808 - box_loss: 0.0020 - reg_l2_loss: 0.0931 - loss: 0.3759 - learning_rate: 0.0187 - gradient_norm: 1.6560\n",
      "Epoch 18/100\n",
      "37/37 [==============================] - 41s 1s/step - det_loss: 0.2795 - cls_loss: 0.1815 - box_loss: 0.0020 - reg_l2_loss: 0.0931 - loss: 0.3727 - learning_rate: 0.0185 - gradient_norm: 1.5562\n",
      "Epoch 19/100\n",
      "37/37 [==============================] - 41s 1s/step - det_loss: 0.2793 - cls_loss: 0.1762 - box_loss: 0.0021 - reg_l2_loss: 0.0932 - loss: 0.3725 - learning_rate: 0.0183 - gradient_norm: 1.7230\n",
      "Epoch 20/100\n",
      "37/37 [==============================] - 40s 1s/step - det_loss: 0.2790 - cls_loss: 0.1822 - box_loss: 0.0019 - reg_l2_loss: 0.0932 - loss: 0.3722 - learning_rate: 0.0181 - gradient_norm: 1.5789\n",
      "Epoch 21/100\n",
      "37/37 [==============================] - 41s 1s/step - det_loss: 0.2794 - cls_loss: 0.1806 - box_loss: 0.0020 - reg_l2_loss: 0.0932 - loss: 0.3726 - learning_rate: 0.0180 - gradient_norm: 1.5407\n",
      "Epoch 22/100\n",
      "37/37 [==============================] - 41s 1s/step - det_loss: 0.2701 - cls_loss: 0.1737 - box_loss: 0.0019 - reg_l2_loss: 0.0932 - loss: 0.3633 - learning_rate: 0.0178 - gradient_norm: 1.5750\n",
      "Epoch 23/100\n",
      "37/37 [==============================] - 40s 1s/step - det_loss: 0.2613 - cls_loss: 0.1684 - box_loss: 0.0019 - reg_l2_loss: 0.0932 - loss: 0.3545 - learning_rate: 0.0176 - gradient_norm: 1.5529\n",
      "Epoch 24/100\n",
      "37/37 [==============================] - 41s 1s/step - det_loss: 0.2625 - cls_loss: 0.1678 - box_loss: 0.0019 - reg_l2_loss: 0.0932 - loss: 0.3557 - learning_rate: 0.0173 - gradient_norm: 1.4287\n",
      "Epoch 25/100\n",
      "37/37 [==============================] - 41s 1s/step - det_loss: 0.2564 - cls_loss: 0.1636 - box_loss: 0.0019 - reg_l2_loss: 0.0932 - loss: 0.3496 - learning_rate: 0.0171 - gradient_norm: 1.4390\n",
      "Epoch 26/100\n",
      "37/37 [==============================] - 41s 1s/step - det_loss: 0.2541 - cls_loss: 0.1647 - box_loss: 0.0018 - reg_l2_loss: 0.0932 - loss: 0.3473 - learning_rate: 0.0169 - gradient_norm: 1.4931\n",
      "Epoch 27/100\n",
      "37/37 [==============================] - 40s 1s/step - det_loss: 0.2594 - cls_loss: 0.1683 - box_loss: 0.0018 - reg_l2_loss: 0.0932 - loss: 0.3526 - learning_rate: 0.0167 - gradient_norm: 1.5641\n",
      "Epoch 28/100\n",
      "37/37 [==============================] - 41s 1s/step - det_loss: 0.2515 - cls_loss: 0.1655 - box_loss: 0.0017 - reg_l2_loss: 0.0932 - loss: 0.3447 - learning_rate: 0.0164 - gradient_norm: 1.5522\n",
      "Epoch 29/100\n",
      "37/37 [==============================] - 40s 1s/step - det_loss: 0.2427 - cls_loss: 0.1596 - box_loss: 0.0017 - reg_l2_loss: 0.0932 - loss: 0.3359 - learning_rate: 0.0162 - gradient_norm: 1.5286\n",
      "Epoch 30/100\n",
      "37/37 [==============================] - 40s 1s/step - det_loss: 0.2399 - cls_loss: 0.1553 - box_loss: 0.0017 - reg_l2_loss: 0.0932 - loss: 0.3331 - learning_rate: 0.0159 - gradient_norm: 1.5616\n",
      "Epoch 31/100\n",
      "37/37 [==============================] - 41s 1s/step - det_loss: 0.2523 - cls_loss: 0.1677 - box_loss: 0.0017 - reg_l2_loss: 0.0932 - loss: 0.3455 - learning_rate: 0.0157 - gradient_norm: 1.7371\n",
      "Epoch 32/100\n",
      "37/37 [==============================] - 41s 1s/step - det_loss: 0.2279 - cls_loss: 0.1516 - box_loss: 0.0015 - reg_l2_loss: 0.0932 - loss: 0.3211 - learning_rate: 0.0154 - gradient_norm: 1.3497\n",
      "Epoch 33/100\n",
      "37/37 [==============================] - 40s 1s/step - det_loss: 0.2388 - cls_loss: 0.1576 - box_loss: 0.0016 - reg_l2_loss: 0.0932 - loss: 0.3320 - learning_rate: 0.0151 - gradient_norm: 1.4507\n",
      "Epoch 34/100\n",
      "37/37 [==============================] - 41s 1s/step - det_loss: 0.2252 - cls_loss: 0.1491 - box_loss: 0.0015 - reg_l2_loss: 0.0932 - loss: 0.3184 - learning_rate: 0.0149 - gradient_norm: 1.3720\n",
      "Epoch 35/100\n",
      "37/37 [==============================] - 41s 1s/step - det_loss: 0.2207 - cls_loss: 0.1449 - box_loss: 0.0015 - reg_l2_loss: 0.0932 - loss: 0.3138 - learning_rate: 0.0146 - gradient_norm: 1.4252\n",
      "Epoch 36/100\n",
      "37/37 [==============================] - 40s 1s/step - det_loss: 0.2324 - cls_loss: 0.1535 - box_loss: 0.0016 - reg_l2_loss: 0.0932 - loss: 0.3255 - learning_rate: 0.0143 - gradient_norm: 1.5727\n",
      "Epoch 37/100\n",
      "37/37 [==============================] - 40s 1s/step - det_loss: 0.2304 - cls_loss: 0.1540 - box_loss: 0.0015 - reg_l2_loss: 0.0932 - loss: 0.3236 - learning_rate: 0.0140 - gradient_norm: 1.4870\n",
      "Epoch 38/100\n",
      "37/37 [==============================] - 40s 1s/step - det_loss: 0.2239 - cls_loss: 0.1514 - box_loss: 0.0015 - reg_l2_loss: 0.0932 - loss: 0.3171 - learning_rate: 0.0137 - gradient_norm: 1.4636\n",
      "Epoch 39/100\n",
      "37/37 [==============================] - 41s 1s/step - det_loss: 0.2231 - cls_loss: 0.1496 - box_loss: 0.0015 - reg_l2_loss: 0.0932 - loss: 0.3162 - learning_rate: 0.0134 - gradient_norm: 1.4996\n",
      "Epoch 40/100\n",
      "37/37 [==============================] - 40s 1s/step - det_loss: 0.2290 - cls_loss: 0.1483 - box_loss: 0.0016 - reg_l2_loss: 0.0931 - loss: 0.3222 - learning_rate: 0.0131 - gradient_norm: 1.5577\n",
      "Epoch 41/100\n",
      "37/37 [==============================] - 41s 1s/step - det_loss: 0.2146 - cls_loss: 0.1449 - box_loss: 0.0014 - reg_l2_loss: 0.0931 - loss: 0.3078 - learning_rate: 0.0128 - gradient_norm: 1.4194\n",
      "Epoch 42/100\n",
      "37/37 [==============================] - 41s 1s/step - det_loss: 0.2169 - cls_loss: 0.1451 - box_loss: 0.0014 - reg_l2_loss: 0.0931 - loss: 0.3100 - learning_rate: 0.0125 - gradient_norm: 1.4430\n",
      "Epoch 43/100\n",
      "37/37 [==============================] - 40s 1s/step - det_loss: 0.2095 - cls_loss: 0.1393 - box_loss: 0.0014 - reg_l2_loss: 0.0931 - loss: 0.3026 - learning_rate: 0.0122 - gradient_norm: 1.3706\n",
      "Epoch 44/100\n",
      "37/37 [==============================] - 41s 1s/step - det_loss: 0.2080 - cls_loss: 0.1386 - box_loss: 0.0014 - reg_l2_loss: 0.0931 - loss: 0.3011 - learning_rate: 0.0119 - gradient_norm: 1.2621\n",
      "Epoch 45/100\n",
      "37/37 [==============================] - 41s 1s/step - det_loss: 0.2110 - cls_loss: 0.1404 - box_loss: 0.0014 - reg_l2_loss: 0.0931 - loss: 0.3041 - learning_rate: 0.0116 - gradient_norm: 1.4147\n",
      "Epoch 46/100\n",
      "37/37 [==============================] - 40s 1s/step - det_loss: 0.2069 - cls_loss: 0.1389 - box_loss: 0.0014 - reg_l2_loss: 0.0931 - loss: 0.2999 - learning_rate: 0.0113 - gradient_norm: 1.5333\n",
      "Epoch 47/100\n",
      "37/37 [==============================] - 40s 1s/step - det_loss: 0.2075 - cls_loss: 0.1386 - box_loss: 0.0014 - reg_l2_loss: 0.0931 - loss: 0.3006 - learning_rate: 0.0110 - gradient_norm: 1.3596\n",
      "Epoch 48/100\n",
      "37/37 [==============================] - 41s 1s/step - det_loss: 0.2015 - cls_loss: 0.1364 - box_loss: 0.0013 - reg_l2_loss: 0.0931 - loss: 0.2945 - learning_rate: 0.0106 - gradient_norm: 1.3769\n",
      "Epoch 49/100\n",
      "37/37 [==============================] - 41s 1s/step - det_loss: 0.1974 - cls_loss: 0.1328 - box_loss: 0.0013 - reg_l2_loss: 0.0930 - loss: 0.2905 - learning_rate: 0.0103 - gradient_norm: 1.2872\n",
      "Epoch 50/100\n",
      "37/37 [==============================] - 40s 1s/step - det_loss: 0.1951 - cls_loss: 0.1319 - box_loss: 0.0013 - reg_l2_loss: 0.0930 - loss: 0.2881 - learning_rate: 0.0100 - gradient_norm: 1.3266\n",
      "Epoch 51/100\n",
      "37/37 [==============================] - 40s 1s/step - det_loss: 0.2008 - cls_loss: 0.1343 - box_loss: 0.0013 - reg_l2_loss: 0.0930 - loss: 0.2938 - learning_rate: 0.0097 - gradient_norm: 1.4691\n",
      "Epoch 52/100\n",
      "37/37 [==============================] - 41s 1s/step - det_loss: 0.1935 - cls_loss: 0.1312 - box_loss: 0.0012 - reg_l2_loss: 0.0930 - loss: 0.2865 - learning_rate: 0.0094 - gradient_norm: 1.2590\n",
      "Epoch 53/100\n",
      "37/37 [==============================] - 40s 1s/step - det_loss: 0.1878 - cls_loss: 0.1280 - box_loss: 0.0012 - reg_l2_loss: 0.0930 - loss: 0.2808 - learning_rate: 0.0090 - gradient_norm: 1.2480\n",
      "Epoch 54/100\n",
      "37/37 [==============================] - 40s 1s/step - det_loss: 0.2012 - cls_loss: 0.1361 - box_loss: 0.0013 - reg_l2_loss: 0.0930 - loss: 0.2942 - learning_rate: 0.0087 - gradient_norm: 1.4800\n",
      "Epoch 55/100\n",
      "37/37 [==============================] - 41s 1s/step - det_loss: 0.1991 - cls_loss: 0.1354 - box_loss: 0.0013 - reg_l2_loss: 0.0930 - loss: 0.2921 - learning_rate: 0.0084 - gradient_norm: 1.3738\n",
      "Epoch 56/100\n",
      "37/37 [==============================] - 41s 1s/step - det_loss: 0.1922 - cls_loss: 0.1300 - box_loss: 0.0012 - reg_l2_loss: 0.0930 - loss: 0.2851 - learning_rate: 0.0081 - gradient_norm: 1.3738\n",
      "Epoch 57/100\n",
      "37/37 [==============================] - 40s 1s/step - det_loss: 0.1844 - cls_loss: 0.1260 - box_loss: 0.0012 - reg_l2_loss: 0.0929 - loss: 0.2774 - learning_rate: 0.0078 - gradient_norm: 1.3716\n",
      "Epoch 58/100\n",
      "37/37 [==============================] - 41s 1s/step - det_loss: 0.1780 - cls_loss: 0.1235 - box_loss: 0.0011 - reg_l2_loss: 0.0929 - loss: 0.2710 - learning_rate: 0.0075 - gradient_norm: 1.3805\n",
      "Epoch 59/100\n",
      "37/37 [==============================] - 41s 1s/step - det_loss: 0.1827 - cls_loss: 0.1256 - box_loss: 0.0011 - reg_l2_loss: 0.0929 - loss: 0.2757 - learning_rate: 0.0072 - gradient_norm: 1.4135\n",
      "Epoch 60/100\n",
      "37/37 [==============================] - 40s 1s/step - det_loss: 0.1785 - cls_loss: 0.1235 - box_loss: 0.0011 - reg_l2_loss: 0.0929 - loss: 0.2714 - learning_rate: 0.0069 - gradient_norm: 1.3191\n",
      "Epoch 61/100\n",
      "37/37 [==============================] - 40s 1s/step - det_loss: 0.1824 - cls_loss: 0.1257 - box_loss: 0.0011 - reg_l2_loss: 0.0929 - loss: 0.2753 - learning_rate: 0.0066 - gradient_norm: 1.3681\n",
      "Epoch 62/100\n",
      "37/37 [==============================] - 41s 1s/step - det_loss: 0.1865 - cls_loss: 0.1285 - box_loss: 0.0012 - reg_l2_loss: 0.0929 - loss: 0.2794 - learning_rate: 0.0063 - gradient_norm: 1.3640\n",
      "Epoch 63/100\n",
      "37/37 [==============================] - 41s 1s/step - det_loss: 0.1830 - cls_loss: 0.1258 - box_loss: 0.0011 - reg_l2_loss: 0.0929 - loss: 0.2759 - learning_rate: 0.0060 - gradient_norm: 1.4273\n",
      "Epoch 64/100\n",
      "37/37 [==============================] - 40s 1s/step - det_loss: 0.1801 - cls_loss: 0.1258 - box_loss: 0.0011 - reg_l2_loss: 0.0929 - loss: 0.2730 - learning_rate: 0.0057 - gradient_norm: 1.3185\n",
      "Epoch 65/100\n",
      "37/37 [==============================] - 41s 1s/step - det_loss: 0.1794 - cls_loss: 0.1242 - box_loss: 0.0011 - reg_l2_loss: 0.0929 - loss: 0.2722 - learning_rate: 0.0054 - gradient_norm: 1.3314\n",
      "Epoch 66/100\n",
      "37/37 [==============================] - 41s 1s/step - det_loss: 0.1771 - cls_loss: 0.1209 - box_loss: 0.0011 - reg_l2_loss: 0.0929 - loss: 0.2700 - learning_rate: 0.0051 - gradient_norm: 1.2723\n",
      "Epoch 67/100\n",
      "37/37 [==============================] - 41s 1s/step - det_loss: 0.1874 - cls_loss: 0.1270 - box_loss: 0.0012 - reg_l2_loss: 0.0928 - loss: 0.2802 - learning_rate: 0.0049 - gradient_norm: 1.5431\n",
      "Epoch 68/100\n",
      "37/37 [==============================] - 40s 1s/step - det_loss: 0.1677 - cls_loss: 0.1174 - box_loss: 0.0010 - reg_l2_loss: 0.0928 - loss: 0.2605 - learning_rate: 0.0046 - gradient_norm: 1.2784\n",
      "Epoch 69/100\n",
      "37/37 [==============================] - 41s 1s/step - det_loss: 0.1766 - cls_loss: 0.1213 - box_loss: 0.0011 - reg_l2_loss: 0.0928 - loss: 0.2694 - learning_rate: 0.0043 - gradient_norm: 1.3150\n",
      "Epoch 70/100\n",
      "37/37 [==============================] - 40s 1s/step - det_loss: 0.1707 - cls_loss: 0.1182 - box_loss: 0.0010 - reg_l2_loss: 0.0928 - loss: 0.2635 - learning_rate: 0.0041 - gradient_norm: 1.3157\n",
      "Epoch 71/100\n",
      "37/37 [==============================] - 40s 1s/step - det_loss: 0.1743 - cls_loss: 0.1200 - box_loss: 0.0011 - reg_l2_loss: 0.0928 - loss: 0.2671 - learning_rate: 0.0038 - gradient_norm: 1.2769\n",
      "Epoch 72/100\n",
      "37/37 [==============================] - 40s 1s/step - det_loss: 0.1630 - cls_loss: 0.1156 - box_loss: 9.4824e-04 - reg_l2_loss: 0.0928 - loss: 0.2558 - learning_rate: 0.0036 - gradient_norm: 1.2201\n",
      "Epoch 73/100\n",
      "37/37 [==============================] - 41s 1s/step - det_loss: 0.1699 - cls_loss: 0.1186 - box_loss: 0.0010 - reg_l2_loss: 0.0928 - loss: 0.2627 - learning_rate: 0.0033 - gradient_norm: 1.2907\n",
      "Epoch 74/100\n",
      "37/37 [==============================] - 40s 1s/step - det_loss: 0.1637 - cls_loss: 0.1141 - box_loss: 9.9103e-04 - reg_l2_loss: 0.0928 - loss: 0.2564 - learning_rate: 0.0031 - gradient_norm: 1.2685\n",
      "Epoch 75/100\n",
      "37/37 [==============================] - 40s 1s/step - det_loss: 0.1669 - cls_loss: 0.1166 - box_loss: 0.0010 - reg_l2_loss: 0.0928 - loss: 0.2596 - learning_rate: 0.0029 - gradient_norm: 1.2565\n",
      "Epoch 76/100\n",
      "37/37 [==============================] - 41s 1s/step - det_loss: 0.1699 - cls_loss: 0.1192 - box_loss: 0.0010 - reg_l2_loss: 0.0928 - loss: 0.2627 - learning_rate: 0.0027 - gradient_norm: 1.2107\n",
      "Epoch 77/100\n",
      "37/37 [==============================] - 40s 1s/step - det_loss: 0.1711 - cls_loss: 0.1184 - box_loss: 0.0011 - reg_l2_loss: 0.0928 - loss: 0.2639 - learning_rate: 0.0024 - gradient_norm: 1.2865\n",
      "Epoch 78/100\n",
      "37/37 [==============================] - 40s 1s/step - det_loss: 0.1706 - cls_loss: 0.1180 - box_loss: 0.0011 - reg_l2_loss: 0.0928 - loss: 0.2634 - learning_rate: 0.0022 - gradient_norm: 1.2939\n",
      "Epoch 79/100\n",
      "37/37 [==============================] - 41s 1s/step - det_loss: 0.1680 - cls_loss: 0.1183 - box_loss: 9.9524e-04 - reg_l2_loss: 0.0928 - loss: 0.2608 - learning_rate: 0.0020 - gradient_norm: 1.2623\n",
      "Epoch 80/100\n",
      "37/37 [==============================] - 40s 1s/step - det_loss: 0.1625 - cls_loss: 0.1128 - box_loss: 9.9480e-04 - reg_l2_loss: 0.0928 - loss: 0.2553 - learning_rate: 0.0019 - gradient_norm: 1.1306\n",
      "Epoch 81/100\n",
      "37/37 [==============================] - 41s 1s/step - det_loss: 0.1685 - cls_loss: 0.1191 - box_loss: 9.8757e-04 - reg_l2_loss: 0.0928 - loss: 0.2612 - learning_rate: 0.0017 - gradient_norm: 1.1902\n",
      "Epoch 82/100\n",
      "37/37 [==============================] - 40s 1s/step - det_loss: 0.1685 - cls_loss: 0.1174 - box_loss: 0.0010 - reg_l2_loss: 0.0927 - loss: 0.2612 - learning_rate: 0.0015 - gradient_norm: 1.3109\n",
      "Epoch 83/100\n",
      "37/37 [==============================] - 41s 1s/step - det_loss: 0.1660 - cls_loss: 0.1158 - box_loss: 0.0010 - reg_l2_loss: 0.0927 - loss: 0.2587 - learning_rate: 0.0013 - gradient_norm: 1.1629\n",
      "Epoch 84/100\n",
      "37/37 [==============================] - 40s 1s/step - det_loss: 0.1702 - cls_loss: 0.1186 - box_loss: 0.0010 - reg_l2_loss: 0.0927 - loss: 0.2629 - learning_rate: 0.0012 - gradient_norm: 1.2427\n",
      "Epoch 85/100\n",
      "37/37 [==============================] - 40s 1s/step - det_loss: 0.1744 - cls_loss: 0.1214 - box_loss: 0.0011 - reg_l2_loss: 0.0927 - loss: 0.2671 - learning_rate: 0.0010 - gradient_norm: 1.2554\n",
      "Epoch 86/100\n",
      "37/37 [==============================] - 41s 1s/step - det_loss: 0.1634 - cls_loss: 0.1147 - box_loss: 9.7467e-04 - reg_l2_loss: 0.0927 - loss: 0.2562 - learning_rate: 9.0417e-04 - gradient_norm: 1.2360\n",
      "Epoch 87/100\n",
      "37/37 [==============================] - 40s 1s/step - det_loss: 0.1693 - cls_loss: 0.1180 - box_loss: 0.0010 - reg_l2_loss: 0.0927 - loss: 0.2621 - learning_rate: 7.7695e-04 - gradient_norm: 1.3438\n",
      "Epoch 88/100\n",
      "37/37 [==============================] - 40s 1s/step - det_loss: 0.1661 - cls_loss: 0.1163 - box_loss: 9.9699e-04 - reg_l2_loss: 0.0927 - loss: 0.2588 - learning_rate: 6.5901e-04 - gradient_norm: 1.2755\n",
      "Epoch 89/100\n",
      "37/37 [==============================] - 41s 1s/step - det_loss: 0.1633 - cls_loss: 0.1140 - box_loss: 9.8582e-04 - reg_l2_loss: 0.0927 - loss: 0.2561 - learning_rate: 5.5048e-04 - gradient_norm: 1.1842\n",
      "Epoch 90/100\n",
      "37/37 [==============================] - 41s 1s/step - det_loss: 0.1675 - cls_loss: 0.1166 - box_loss: 0.0010 - reg_l2_loss: 0.0927 - loss: 0.2602 - learning_rate: 4.5146e-04 - gradient_norm: 1.2902\n",
      "Epoch 91/100\n",
      "37/37 [==============================] - 40s 1s/step - det_loss: 0.1617 - cls_loss: 0.1135 - box_loss: 9.6333e-04 - reg_l2_loss: 0.0927 - loss: 0.2544 - learning_rate: 3.6206e-04 - gradient_norm: 1.2470\n",
      "Epoch 92/100\n",
      "37/37 [==============================] - 41s 1s/step - det_loss: 0.1650 - cls_loss: 0.1156 - box_loss: 9.8704e-04 - reg_l2_loss: 0.0927 - loss: 0.2577 - learning_rate: 2.8236e-04 - gradient_norm: 1.2147\n",
      "Epoch 93/100\n",
      "37/37 [==============================] - 41s 1s/step - det_loss: 0.1635 - cls_loss: 0.1150 - box_loss: 9.7008e-04 - reg_l2_loss: 0.0927 - loss: 0.2563 - learning_rate: 2.1245e-04 - gradient_norm: 1.1936\n",
      "Epoch 94/100\n",
      "37/37 [==============================] - 40s 1s/step - det_loss: 0.1644 - cls_loss: 0.1170 - box_loss: 9.4925e-04 - reg_l2_loss: 0.0927 - loss: 0.2571 - learning_rate: 1.5239e-04 - gradient_norm: 1.2176\n",
      "Epoch 95/100\n",
      "37/37 [==============================] - 40s 1s/step - det_loss: 0.1629 - cls_loss: 0.1135 - box_loss: 9.8794e-04 - reg_l2_loss: 0.0927 - loss: 0.2556 - learning_rate: 1.0225e-04 - gradient_norm: 1.2404\n",
      "Epoch 96/100\n",
      "37/37 [==============================] - 41s 1s/step - det_loss: 0.1671 - cls_loss: 0.1161 - box_loss: 0.0010 - reg_l2_loss: 0.0927 - loss: 0.2598 - learning_rate: 6.2076e-05 - gradient_norm: 1.2571\n",
      "Epoch 97/100\n",
      "37/37 [==============================] - 41s 1s/step - det_loss: 0.1660 - cls_loss: 0.1167 - box_loss: 9.8477e-04 - reg_l2_loss: 0.0927 - loss: 0.2587 - learning_rate: 3.1907e-05 - gradient_norm: 1.2176\n",
      "Epoch 98/100\n",
      "37/37 [==============================] - 40s 1s/step - det_loss: 0.1602 - cls_loss: 0.1111 - box_loss: 9.8138e-04 - reg_l2_loss: 0.0927 - loss: 0.2529 - learning_rate: 1.1776e-05 - gradient_norm: 1.1473\n",
      "Epoch 99/100\n",
      "37/37 [==============================] - 41s 1s/step - det_loss: 0.1602 - cls_loss: 0.1125 - box_loss: 9.5438e-04 - reg_l2_loss: 0.0927 - loss: 0.2530 - learning_rate: 1.7010e-06 - gradient_norm: 1.2466\n",
      "Epoch 100/100\n",
      "37/37 [==============================] - 41s 1s/step - det_loss: 0.1616 - cls_loss: 0.1134 - box_loss: 9.6432e-04 - reg_l2_loss: 0.0927 - loss: 0.2543 - learning_rate: 1.6938e-06 - gradient_norm: 1.1701\n"
     ]
    }
   ],
   "source": [
    "model1 = object_detector.create(train_853, model_spec=spec_853, batch_size=16, train_whole_model=True, epochs=100, validation_data=val_853)"
   ]
  },
  {
   "cell_type": "code",
   "execution_count": null,
   "metadata": {
    "id": "vqSEMjXWuk3Z",
    "colab": {
     "base_uri": "https://localhost:8080/",
     "height": 287
    },
    "executionInfo": {
     "status": "error",
     "timestamp": 1654878197837,
     "user_tz": -420,
     "elapsed": 1033,
     "user": {
      "displayName": "Bui Thanh Liem B1812353",
      "userId": "08641669646768133469"
     }
    },
    "outputId": "20e9c8e7-de89-45ae-e3f7-6704f650bee4",
    "pycharm": {
     "name": "#%%\n"
    }
   },
   "outputs": [
    {
     "output_type": "error",
     "ename": "ValueError",
     "evalue": "ignored",
     "traceback": [
      "\u001B[0;31m---------------------------------------------------------------------------\u001B[0m",
      "\u001B[0;31mValueError\u001B[0m                                Traceback (most recent call last)",
      "\u001B[0;32m<ipython-input-21-78a80729aa58>\u001B[0m in \u001B[0;36m<module>\u001B[0;34m()\u001B[0m\n\u001B[0;32m----> 1\u001B[0;31m \u001B[0mmodel\u001B[0m\u001B[0;34m.\u001B[0m\u001B[0mevaluate\u001B[0m\u001B[0;34m(\u001B[0m\u001B[0mval_853\u001B[0m\u001B[0;34m)\u001B[0m\u001B[0;34m\u001B[0m\u001B[0;34m\u001B[0m\u001B[0m\n\u001B[0m",
      "\u001B[0;32m/usr/local/lib/python3.7/dist-packages/tensorflow_examples/lite/model_maker/core/task/object_detector.py\u001B[0m in \u001B[0;36mevaluate\u001B[0;34m(self, data, batch_size)\u001B[0m\n\u001B[1;32m    139\u001B[0m                        \u001B[0;34m'smaller than batch_size (%d). To solve this problem, '\u001B[0m\u001B[0;34m\u001B[0m\u001B[0;34m\u001B[0m\u001B[0m\n\u001B[1;32m    140\u001B[0m                        \u001B[0;34m'set the batch_size smaller or increase the size of the '\u001B[0m\u001B[0;34m\u001B[0m\u001B[0;34m\u001B[0m\u001B[0m\n\u001B[0;32m--> 141\u001B[0;31m                        'validation_data.' % (len(data), batch_size))\n\u001B[0m\u001B[1;32m    142\u001B[0m \u001B[0;34m\u001B[0m\u001B[0m\n\u001B[1;32m    143\u001B[0m     eval_metrics = self.model_spec.evaluate(self.model, ds, steps,\n",
      "\u001B[0;31mValueError\u001B[0m: The size of the validation_data (0) couldn't be smaller than batch_size (64). To solve this problem, set the batch_size smaller or increase the size of the validation_data."
     ]
    }
   ],
   "source": [
    "model.evaluate(val_853)"
   ]
  },
  {
   "cell_type": "code",
   "execution_count": null,
   "metadata": {
    "id": "WZkxIgBH1fVo",
    "pycharm": {
     "name": "#%%\n"
    }
   },
   "outputs": [],
   "source": [
    "model1.export(export_dir='/content/drive/MyDrive/Nam4_HK2/TTTT/Face_mask_Detection/Effi3/', tflite_filename='853_Effi3.tflite')"
   ]
  },
  {
   "cell_type": "code",
   "execution_count": null,
   "metadata": {
    "id": "ozLjFHvR1qGY",
    "colab": {
     "base_uri": "https://localhost:8080/"
    },
    "executionInfo": {
     "status": "ok",
     "timestamp": 1654878196810,
     "user_tz": -420,
     "elapsed": 911209,
     "user": {
      "displayName": "Bui Thanh Liem B1812353",
      "userId": "08641669646768133469"
     }
    },
    "outputId": "9f095fb9-1e29-4178-b067-9e6a00efc313",
    "pycharm": {
     "name": "#%%\n"
    }
   },
   "outputs": [
    {
     "output_type": "stream",
     "name": "stdout",
     "text": [
      "53/53 [==============================] - 911s 17s/step\n",
      "\n"
     ]
    },
    {
     "output_type": "execute_result",
     "data": {
      "text/plain": [
       "{'AP': 0.5370075,\n",
       " 'AP50': 0.82163715,\n",
       " 'AP75': 0.572503,\n",
       " 'AP_/0': 0.46606645,\n",
       " 'AP_/1': 0.60794854,\n",
       " 'APl': 0.88044554,\n",
       " 'APm': 0.56837606,\n",
       " 'APs': 0.40421596,\n",
       " 'ARl': 0.9125,\n",
       " 'ARm': 0.6369445,\n",
       " 'ARmax1': 0.34047619,\n",
       " 'ARmax10': 0.57589287,\n",
       " 'ARmax100': 0.5943452,\n",
       " 'ARs': 0.4763889}"
      ]
     },
     "metadata": {},
     "execution_count": 20
    }
   ],
   "source": [
    "model.evaluate_tflite('/content/drive/MyDrive/Nam4_HK2/TTTT/Face_mask_Detection/Effi3/853_Effi3.tflite', test_853)"
   ]
  }
 ],
 "metadata": {
  "accelerator": "GPU",
  "colab": {
   "collapsed_sections": [],
   "machine_shape": "hm",
   "name": "Training_Model_Effi3.ipynb",
   "provenance": [],
   "authorship_tag": "ABX9TyO42U01D8Hl0cbuBJ2ITgln"
  },
  "kernelspec": {
   "display_name": "Python 3",
   "name": "python3"
  },
  "language_info": {
   "name": "python"
  }
 },
 "nbformat": 4,
 "nbformat_minor": 0
}